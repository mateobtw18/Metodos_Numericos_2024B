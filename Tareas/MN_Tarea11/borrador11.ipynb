{
 "cells": [
  {
   "cell_type": "code",
   "execution_count": 1,
   "metadata": {},
   "outputs": [],
   "source": [
    "import numpy as np\n",
    "\n",
    "def gauss_jacobi(A: np.ndarray, b: np.ndarray, x0: np.ndarray, tol: float = 1e-10, max_iter: int = 100) -> np.ndarray:\n",
    "    \"\"\"\n",
    "    Resuelve el sistema de ecuaciones Ax = b utilizando el método iterativo de Gauss-Jacobi.\n",
    "    \n",
    "    :param A: Matriz de coeficientes de tamaño n x n\n",
    "    :param b: Vector de términos independientes de tamaño n\n",
    "    :param x0: Vector inicial de aproximaciones\n",
    "    :param tol: Tolerancia para la convergencia\n",
    "    :param max_iter: Número máximo de iteraciones\n",
    "    :return: Vector solución x\n",
    "    \"\"\"\n",
    "    n = A.shape[0]\n",
    "    x = x0.copy()\n",
    "    x_new = np.zeros_like(x)\n",
    "\n",
    "    print(f\"i_0 - {x_new}\")\n",
    "\n",
    "    for iter in range(max_iter):\n",
    "        for i in range(n):\n",
    "            suma = sum(A[i, j] * x[j] for j in range(n) if j != i)\n",
    "            x_new[i] = (b[i] - suma) / A[i, i]\n",
    "\n",
    "        print(f'i_{iter+1} - {x_new}')\n",
    "\n",
    "        if np.linalg.norm(x_new - x, ord=np.inf) < tol:\n",
    "            return x_new\n",
    "        x = x_new.copy()\n",
    "\n",
    "    raise ValueError(\"El método de Gauss-Jacobi no converge.\")"
   ]
  },
  {
   "cell_type": "code",
   "execution_count": 5,
   "metadata": {},
   "outputs": [
    {
     "name": "stdout",
     "output_type": "stream",
     "text": [
      "i_0 - [0. 0. 0.]\n",
      "i_1 - [0.33333333 0.         0.57142857]\n",
      "i_2 - [ 0.14285714 -0.35714286  0.42857143]\n",
      "i_3 - [ 0.07142857 -0.21428571  0.66326531]\n",
      "i_4 - [ 0.04081633 -0.25680272  0.63265306]\n",
      "i_5 - [ 0.03684807 -0.23129252  0.66399417]\n",
      "i_6 - [ 0.03490444 -0.23975543  0.6547619 ]\n",
      "i_7 - [ 0.03516089 -0.23570619  0.65922185]\n",
      "i_8 - [ 0.03502399 -0.23732106  0.65737656]\n",
      "i_9 - [ 0.03510079 -0.23663751  0.65812732]\n",
      "Solución del sistema a:\n",
      "[ 0.03510079 -0.23663751  0.65812732]\n"
     ]
    }
   ],
   "source": [
    "A1 = np.array([[3, -1, 1], [3, 6, 2], [3, 3, 7]])\n",
    "b1 = np.array([1, 0, 4])\n",
    "x0_1 = np.zeros(len(b1))\n",
    "\n",
    "try:\n",
    "    sol1 = gauss_jacobi(A1, b1, x0_1, max_iter=100, tol=1e-3)\n",
    "    print(\"Solución del sistema a:\")\n",
    "    print(sol1)\n",
    "except ValueError:\n",
    "    print(\"\")"
   ]
  },
  {
   "cell_type": "code",
   "execution_count": 3,
   "metadata": {},
   "outputs": [],
   "source": [
    "import numpy as np\n",
    "\n",
    "\n",
    "def gauss_seidel(\n",
    "    A: np.ndarray,\n",
    "    b: np.ndarray,\n",
    "    x0: np.ndarray,\n",
    "    tol: float = 1e-10,\n",
    "    max_iter: int = 100,\n",
    ") -> np.ndarray:\n",
    "    \"\"\"\n",
    "    Resuelve el sistema de ecuaciones Ax = b utilizando el método iterativo de Gauss-Seidel.\n",
    "\n",
    "    :param A: Matriz de coeficientes de tamaño n x n\n",
    "    :param b: Vector de términos independientes de tamaño n\n",
    "    :param x0: Vector inicial de aproximaciones\n",
    "    :param tol: Tolerancia para la convergencia\n",
    "    :param max_iter: Número máximo de iteraciones\n",
    "    :return: Vector solución x\n",
    "    \"\"\"\n",
    "    n = A.shape[0]\n",
    "    x = x0.copy()\n",
    "\n",
    "    print(f\"Pasada 0 - {x}\")\n",
    "\n",
    "    for iter in range(max_iter):\n",
    "        x_old = x.copy()\n",
    "\n",
    "        for i in range(n):\n",
    "            suma = sum(A[i, j] * x[j] for j in range(n) if j != i)\n",
    "            x[i] = (b[i] - suma) / A[i, i]\n",
    "\n",
    "        print(f\"Pasada {iter+1} - {x}\")\n",
    "\n",
    "        if np.linalg.norm(x - x_old, ord=np.inf) < tol:\n",
    "            return x\n",
    "\n",
    "    raise ValueError(\"El método de Gauss-Seidel no converge.\")"
   ]
  }
 ],
 "metadata": {
  "kernelspec": {
   "display_name": "Python 3",
   "language": "python",
   "name": "python3"
  },
  "language_info": {
   "codemirror_mode": {
    "name": "ipython",
    "version": 3
   },
   "file_extension": ".py",
   "mimetype": "text/x-python",
   "name": "python",
   "nbconvert_exporter": "python",
   "pygments_lexer": "ipython3",
   "version": "3.12.7"
  }
 },
 "nbformat": 4,
 "nbformat_minor": 2
}
