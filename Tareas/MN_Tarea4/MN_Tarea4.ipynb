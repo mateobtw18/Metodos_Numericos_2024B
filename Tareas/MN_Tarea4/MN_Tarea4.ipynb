{
 "cells": [
  {
   "cell_type": "raw",
   "id": "95ac3328-95d5-439b-9446-7d351a2323a3",
   "metadata": {},
   "source": [
    "---\n",
    "title: \"Método de la Bisección\"\n",
    "author: \"Mateo Cumbal\"\n",
    "date: \"Octubre 30, 2024\"\n",
    "lang: es\n",
    "format:\n",
    "  pdf:\n",
    "        number-sections: true\n",
    "        paginate: true\n",
    "        toc: true\n",
    "        links-color: blue\n",
    "        toc-title: \"Tabla de Contenidos\"  \n",
    "        tables: true\n",
    "        table-width: full\n",
    "        images-centered: true\n",
    "        code-block-theme: \"monokai\"\n",
    "execute:\n",
    "  echo: true\n",
    "  error: false\n",
    "  warning: false\n",
    "code-fold: true\n",
    "jupyter: python3\n",
    "---"
   ]
  },
  {
   "cell_type": "markdown",
   "id": "75ca5870-238e-44fb-b9e8-68157656cbe7",
   "metadata": {},
   "source": [
    "# CÓDIGO"
   ]
  },
  {
   "cell_type": "markdown",
   "id": "e1797864-d86b-4080-918b-5b63a659468e",
   "metadata": {},
   "source": [
    "## Método de la Bisección"
   ]
  },
  {
   "cell_type": "code",
   "execution_count": 263,
   "id": "de0ce8f9-fa0c-439c-aa5e-3e0dcff042cf",
   "metadata": {},
   "outputs": [],
   "source": [
    "def biseccion(f: float, a: float, b: float, TOL: float, N: int) -> float:\n",
    "    i = 1\n",
    "    FA = f(a)\n",
    "\n",
    "    while i <= N:\n",
    "        p = a + (b - a) / 2\n",
    "        FP = f(p)\n",
    "\n",
    "        if FP == 0 or (b - a) / 2 < TOL:\n",
    "            return p\n",
    "\n",
    "        i += 1\n",
    "\n",
    "        if FA * FP > 0:\n",
    "            a = p\n",
    "            FA = FP\n",
    "        else:\n",
    "            b = p\n",
    "\n",
    "    print(f'El método fracasó después de {N} iteraciones.')\n",
    "    return None"
   ]
  },
  {
   "cell_type": "markdown",
   "id": "30580aef-94c9-4366-91e3-65a16a911da2",
   "metadata": {},
   "source": [
    "# CONJUNTO DE EJERCICIOS"
   ]
  },
  {
   "cell_type": "markdown",
   "id": "b8b7e297-4578-41fa-8be6-1d99eed49e12",
   "metadata": {},
   "source": [
    "## Ejercicio 1"
   ]
  },
  {
   "cell_type": "markdown",
   "id": "bddaa2cd-f796-448c-bd7e-5534e38ade7a",
   "metadata": {},
   "source": [
    "**Use el método de bisección para encontrar soluciones precisas dentro de $10^{-2}$ para $x^3 - 7x^2 + 14x - 6 = 0$ en cada intervalo.**"
   ]
  },
  {
   "cell_type": "markdown",
   "id": "081fe5eb-d0b4-4d7d-b4fa-88b8a5e91e2f",
   "metadata": {},
   "source": [
    "Se define la función de la ecuación y párametros dados."
   ]
  },
  {
   "cell_type": "code",
   "execution_count": 268,
   "id": "27a4c03d-1660-4132-a590-c28512129263",
   "metadata": {},
   "outputs": [],
   "source": [
    "def funcion1(x):\n",
    "    return x**3 - 7 * x**2 + 14*x - 6\n",
    "\n",
    "TOL = 10**-2\n",
    "N0 = 100"
   ]
  },
  {
   "cell_type": "markdown",
   "id": "cef5df07-5fb9-4459-a6d8-f58e6d20e2be",
   "metadata": {},
   "source": [
    "**a. [0, 1]**"
   ]
  },
  {
   "cell_type": "code",
   "execution_count": 270,
   "id": "12f0aa05-22b5-4a41-8827-2f8175cdf34e",
   "metadata": {},
   "outputs": [
    {
     "name": "stdout",
     "output_type": "stream",
     "text": [
      "Solución aproximada encontrada: 0.5858 en el intervalo [0,1].\n"
     ]
    }
   ],
   "source": [
    "a = 0\n",
    "b = 1\n",
    "\n",
    "solucion1 = biseccion(funcion1, a, b, TOL, N0)\n",
    "if solucion1 is not None:\n",
    "    print(f'Solución aproximada encontrada: {solucion:.4f} en el intervalo [{a},{b}].')"
   ]
  },
  {
   "cell_type": "markdown",
   "id": "d4f8c89f-1f26-4bd1-81f7-769531293e8e",
   "metadata": {},
   "source": [
    "**b. [1, 3.2]**"
   ]
  },
  {
   "cell_type": "code",
   "execution_count": 272,
   "id": "6b0720a1-de55-4246-9776-fcf63aca811c",
   "metadata": {},
   "outputs": [
    {
     "name": "stdout",
     "output_type": "stream",
     "text": [
      "Solución aproximada encontrada: 3.0023 en el intervalo [1,3.2].\n"
     ]
    }
   ],
   "source": [
    "a = 1\n",
    "b = 3.2\n",
    "\n",
    "solucion2 = biseccion(funcion1, a, b, TOL, N0)\n",
    "if solucion2 is not None:\n",
    "    print(f'Solución aproximada encontrada: {solucion2:.4f} en el intervalo [{a},{b}].')"
   ]
  },
  {
   "cell_type": "markdown",
   "id": "0d39635b-b329-48f1-9646-db50bcb7f62c",
   "metadata": {},
   "source": [
    "**c. [3.2, 4]**"
   ]
  },
  {
   "cell_type": "code",
   "execution_count": 274,
   "id": "77edb02a-a712-41a9-8a47-eb69feb435ce",
   "metadata": {},
   "outputs": [
    {
     "name": "stdout",
     "output_type": "stream",
     "text": [
      "Solución aproximada encontrada: 3.4188 en el intervalo [3.2,4].\n"
     ]
    }
   ],
   "source": [
    "a = 3.2\n",
    "b = 4\n",
    "\n",
    "solucion3 = biseccion(funcion1, a, b, TOL, N0)\n",
    "if solucion3 is not None:\n",
    "    print(f'Solución aproximada encontrada: {solucion3:.4f} en el intervalo [{a},{b}].')"
   ]
  },
  {
   "cell_type": "markdown",
   "id": "47980575-6cd6-4a22-925d-701c0da71eba",
   "metadata": {},
   "source": [
    "## Ejercicio 4"
   ]
  },
  {
   "cell_type": "markdown",
   "id": "295639b8-77be-4514-9484-4b7d1142f87e",
   "metadata": {},
   "source": [
    "**a. Dibuje las gráficas para $y = x^{2} - 1$ y $y = e^{1-x^{2}}$**"
   ]
  },
  {
   "cell_type": "markdown",
   "id": "b7278411-b178-4f29-a746-0845c1dd5a21",
   "metadata": {},
   "source": [
    "Las gráficas de las funciones se implementan gracias al siguiente código:"
   ]
  },
  {
   "cell_type": "code",
   "execution_count": 278,
   "id": "e26d79aa-34e4-44e8-b953-355f94a957ab",
   "metadata": {},
   "outputs": [
    {
     "data": {
      "image/png": "[encoded data removed]",
      "text/plain": [
       "<Figure size 800x600 with 1 Axes>"
      ]
     },
     "metadata": {},
     "output_type": "display_data"
    }
   ],
   "source": [
    "import numpy as np\n",
    "import matplotlib.pyplot as plt\n",
    "\n",
    "def equation1(x: float) -> float:\n",
    "    return x**2 - 1\n",
    "\n",
    "def equation2(x: float) -> float:\n",
    "    return np.exp(1 - x**2)\n",
    "\n",
    "x = np.linspace(-5, 5, 200)\n",
    "y1 = equation1(x)\n",
    "y2 = equation2(x)\n",
    "plt.figure(figsize=(8, 6))\n",
    "plt.plot(x, y1, label=r'$y = x^{2} - 1$', color='green')\n",
    "plt.plot(x, y2, label=r'$y = e^{1-x^{2}}$', color='blue')\n",
    "\n",
    "plt.xlabel('x')\n",
    "plt.ylabel('y')\n",
    "plt.title('Gráfica de $x^{2}-1$  y  $e^{1-x^{2}}$')\n",
    "plt.axhline(y=0, color='black')\n",
    "plt.axhline(0, color='black',linewidth=0.5)\n",
    "plt.axvline(0, color='black',linewidth=0.5)\n",
    "ax = plt.gca()\n",
    "ax.set_ylim([-2, 4])\n",
    "ax.set_xlim([-3, 3])\n",
    "\n",
    "plt.grid(True)\n",
    "plt.legend()\n",
    "plt.show()"
   ]
  },
  {
   "cell_type": "markdown",
   "id": "a56ada00-23b1-4376-abae-4a8233cd75ef",
   "metadata": {},
   "source": [
    "**b. Use el método de bisección para encontrar una aproximación dentro de $10^{-3}$ para un valor de $[-2,0]$ con $x^{2} - 1 = e^{1-x^{2}}$**"
   ]
  },
  {
   "cell_type": "markdown",
   "id": "0f903799-321e-4230-b528-a541d6a7a0bd",
   "metadata": {},
   "source": [
    "La función de la ecuación es:"
   ]
  },
  {
   "cell_type": "code",
   "execution_count": 281,
   "id": "1c5dca97-c98a-466c-b776-5668b8413ff0",
   "metadata": {},
   "outputs": [],
   "source": [
    "def funcion4b(x):\n",
    "    return ((x**2) - 1)-(np.exp(1-x**2))"
   ]
  },
  {
   "cell_type": "markdown",
   "id": "2191fa27-53a6-470b-8037-a501fc425cc3",
   "metadata": {},
   "source": [
    "De esta manera se visualiza la igualdad entre ambas ecuaciones:"
   ]
  },
  {
   "cell_type": "code",
   "execution_count": 283,
   "id": "a0271fbb-f5cb-43d9-8137-fabd0a50c581",
   "metadata": {},
   "outputs": [
    {
     "data": {
      "image/png": "[encoded data removed]",
      "text/plain": [
       "<Figure size 640x480 with 1 Axes>"
      ]
     },
     "metadata": {},
     "output_type": "display_data"
    }
   ],
   "source": [
    "x = np.linspace(-5, 5, 100)\n",
    "\n",
    "y = funcion4b(x)\n",
    "\n",
    "plt.plot(x, y, label = '$x^{2} - 1 = e^{1-x^{2}}$', color = 'violet')\n",
    "\n",
    "plt.axhline(y=0, color='black')\n",
    "plt.xlabel('x')\n",
    "plt.ylabel('y')\n",
    "plt.title('Gráfica de $x^{2} - 1 - e^{1-x^{2}} = 0$')\n",
    "ax = plt.gca()\n",
    "ax.set_ylim([-5, 5])\n",
    "ax.set_xlim([-4, 4])\n",
    "plt.grid(True)\n",
    "plt.show()"
   ]
  },
  {
   "cell_type": "markdown",
   "id": "99cac4c4-d900-42e4-9000-979e47b5a677",
   "metadata": {},
   "source": [
    "Se aplica el método de la bisección con los parámetros dados:"
   ]
  },
  {
   "cell_type": "code",
   "execution_count": 285,
   "id": "1a9fe346-13c3-4f44-a2d2-a08c6ebbac6e",
   "metadata": {},
   "outputs": [
    {
     "name": "stdout",
     "output_type": "stream",
     "text": [
      "Solución aproximada encontrada: -1.2510 en el intervalo [-2,0].\n"
     ]
    }
   ],
   "source": [
    "a = -2\n",
    "b = 0\n",
    "TOL = 10**-3\n",
    "N0 = 100\n",
    "\n",
    "solucion4b = biseccion(funcion4b, a, b, TOL, N0)\n",
    "if solucion4b is not None:\n",
    "    print(f'Solución aproximada encontrada: {solucion4b:.4f} en el intervalo [{a},{b}].')"
   ]
  },
  {
   "cell_type": "markdown",
   "id": "d293f125-4eb3-45c0-85c4-089a8ce3842b",
   "metadata": {},
   "source": [
    "# EJERCICIOS APLICADOS"
   ]
  },
  {
   "cell_type": "markdown",
   "id": "880f6dbc-c044-4756-bb74-ba3f7be80e7f",
   "metadata": {},
   "source": [
    "## Ejercicio 1"
   ]
  },
  {
   "cell_type": "markdown",
   "id": "ee6cb001-c03f-491f-8df6-7b75dbd409ba",
   "metadata": {},
   "source": [
    "**Un abrevadero de longitud 𝐿 tiene una sección transversal en forma de semicírculo con radio 𝑟. (Consulte la figura adjunta.) Cuando se llena con agua hasta una distancia ℎ a partir de la parte superior, el volumen 𝑉 de agua es:**\n",
    "\n",
    "$V = L \\left( 0.5 \\pi r^2 - r^2 \\arcsin\\left(\\frac{h}{r}\\right) - h \\sqrt{r^2 - h^2} \\right)$\n",
    "\n",
    "**Suponga que 𝐿 = 10 𝑐𝑚, 𝑟 = 1 𝑐𝑚 y 𝑉 =12.4 𝑐𝑚. Encuentre la profundidad del agua en el abrevadero dentro de 0.01 _cm_**"
   ]
  },
  {
   "cell_type": "markdown",
   "id": "5387fa4f-cac5-4ba2-8517-f36618396ed4",
   "metadata": {},
   "source": [
    "Del ejercicio se tiene que:\n",
    "* Tolerancia: $0.01 cm$\n",
    "* Intervalo: $[h_{min}, h_{max}]$, es decir: $[0,1]$ "
   ]
  },
  {
   "cell_type": "markdown",
   "id": "1227fdef-5fa4-4f45-97fd-a343cba8fc9c",
   "metadata": {},
   "source": [
    "Se define de la función f(h) basada en el volumen V y el volumen objetivo:"
   ]
  },
  {
   "cell_type": "code",
   "execution_count": 291,
   "id": "303c85ef-7782-46f7-bd2c-7f97334817e9",
   "metadata": {},
   "outputs": [],
   "source": [
    "def f(h, L=10, r=1, V=12.4):\n",
    "    return L * (0.5 * np.pi * r**2 - r**2 * np.arcsin(h / r) - h * np.sqrt(r**2 - h**2)) - V"
   ]
  },
  {
   "cell_type": "markdown",
   "id": "a0bf04ec-154e-400b-93a0-e6fdffe11f0b",
   "metadata": {},
   "source": [
    "Se aplica el método de la bisección y se obtiene la profundidad:"
   ]
  },
  {
   "cell_type": "code",
   "execution_count": 293,
   "id": "711a0823-a26d-4657-8841-643a298ba941",
   "metadata": {},
   "outputs": [
    {
     "name": "stdout",
     "output_type": "stream",
     "text": [
      "La profundidad del agua es aproximadamente: 0.1641 cm\n"
     ]
    }
   ],
   "source": [
    "a = 0\n",
    "b = 1\n",
    "TOL = 0.01\n",
    "N0 = 100\n",
    "\n",
    "profundidad = biseccion(f, a, b, TOL, N0)\n",
    "if profundidad is not None:\n",
    "    print(f'La profundidad del agua es aproximadamente: {profundidad:.4f} cm')"
   ]
  },
  {
   "cell_type": "markdown",
   "id": "ba759f89-c63f-4ab4-9e84-39d7f3f4f7bb",
   "metadata": {},
   "source": [
    "## Ejercicio 2"
   ]
  },
  {
   "cell_type": "markdown",
   "id": "7325f102-1e3b-466a-864b-5b5ac025125d",
   "metadata": {},
   "source": [
    "**Un objeto que cae verticalmente a través del aire está sujeto a  una resistencia viscosa, así como a la fuerza de gravedad. Suponga que un objeto con masa 𝑚 cae desde una altura 𝑠 y que la altura del objeto después de 𝑡segundos es**\n",
    "\n",
    "$s(t) = s_0 - \\frac{mg}{k} t + \\frac{m^2 g}{k^2} \\left( 1 - e^{-\\frac{kt}{m}} \\right),$\n",
    "\n",
    "**donde $( g = 9.81, \\text{m/s}^2 )$ y $(k)$ representa el coeficiente de la resistencia del aire en $( \\text{Ns/m})$. Suponga $( s_0 = 300, \\text{m})$, $( m = 0.25 \\, \\text{kg})$ y $(k = 0.1, \\text{Ns/m})$. Encuentre, dentro de $(0.01 \\, \\text{segundos})$, el tiempo que tarda un cuarto de kg en golpear el piso.**"
   ]
  },
  {
   "cell_type": "markdown",
   "id": "59bfad96-959e-4117-816c-e629a53a3c09",
   "metadata": {},
   "source": [
    "Se define la función de posición s(t):"
   ]
  },
  {
   "cell_type": "code",
   "execution_count": 297,
   "id": "23f37570-8cf6-49ab-bca9-55c07947b9ab",
   "metadata": {},
   "outputs": [],
   "source": [
    "def s(t, s0=300, m=0.25, g=9.81, k=0.1):\n",
    "    return s0 - (m * g / k) * t + (m**2 * g / k**2) * (1 - np.exp(-k * t / m))"
   ]
  },
  {
   "cell_type": "markdown",
   "id": "6b5d93fa-dd87-42da-ac5e-7556f9d4e1ee",
   "metadata": {},
   "source": [
    "Para determinar el tiempo:"
   ]
  },
  {
   "cell_type": "code",
   "execution_count": 298,
   "id": "f561e5c5-17ab-4216-8aa8-b828176a5336",
   "metadata": {},
   "outputs": [
    {
     "name": "stdout",
     "output_type": "stream",
     "text": [
      "El objeto golpea el piso aproximadamente en: 14.7278 segundos\n"
     ]
    }
   ],
   "source": [
    "a = 0\n",
    "b = 100 \n",
    "TOL = 0.01\n",
    "N0 = 1000\n",
    "\n",
    "tiempo = biseccion(lambda t: s(t), a, b, TOL, N0)\n",
    "if tiempo is not None:\n",
    "    print(f'El objeto golpea el piso aproximadamente en: {tiempo:.4f} segundos')"
   ]
  },
  {
   "cell_type": "markdown",
   "id": "e30634f0-fd7a-43d2-b916-c50e45bdb628",
   "metadata": {},
   "source": [
    "# EJERCICIOS TEÓRICOS"
   ]
  },
  {
   "cell_type": "markdown",
   "id": "915a3cbe-5518-4f03-8b53-aef205bccd24",
   "metadata": {},
   "source": [
    "## Ejercicio 1"
   ]
  },
  {
   "cell_type": "markdown",
   "id": "529d96c4-1892-4a2e-81bb-e78edda819dc",
   "metadata": {},
   "source": [
    "**Use el *teorema 2.1.* para encontrar una cota para el número de iteraciones necesarias para lograr una aproximación con precisión de $10^{-4}$ para la solución de $x^{3}-x-1=0$ que se encuentra dentro del intervalo $[1,2]$. Encuentre una aproximación para la raíz con este grado de precisión.**"
   ]
  },
  {
   "cell_type": "markdown",
   "id": "b71e73d8-adbd-4827-ab7d-248116fe7632",
   "metadata": {},
   "source": [
    "Se define la ecuación del ejercicio:"
   ]
  },
  {
   "cell_type": "code",
   "execution_count": 303,
   "id": "256f25d2-fefe-4485-8b04-bbac76ab74df",
   "metadata": {},
   "outputs": [],
   "source": [
    "def f(x):\n",
    "    return x**3 - x - 1"
   ]
  },
  {
   "cell_type": "markdown",
   "id": "6c80c3d3-7dd3-4069-8571-1d78c4612e7d",
   "metadata": {},
   "source": [
    "Se calcula el número mínimo de iteraciones necesarias:"
   ]
  },
  {
   "cell_type": "code",
   "execution_count": 305,
   "id": "229293c4-d120-43e5-9901-3f4f99abd706",
   "metadata": {},
   "outputs": [
    {
     "name": "stdout",
     "output_type": "stream",
     "text": [
      "Número mínimo de iteraciones necesarias: 14\n"
     ]
    }
   ],
   "source": [
    "tolerancia = 1e-4\n",
    "a = 1\n",
    "b = 2\n",
    "n_iteraciones = np.ceil(np.log((b - a) / tolerancia) / np.log(2))\n",
    "print(f\"Número mínimo de iteraciones necesarias: {int(n_iteraciones)}\")"
   ]
  },
  {
   "cell_type": "markdown",
   "id": "605954d7-9049-4da3-a69d-86b178c71481",
   "metadata": {},
   "source": [
    "La raiz aproximada se obtiene a partir del método de la bisección."
   ]
  },
  {
   "cell_type": "code",
   "execution_count": 307,
   "id": "22521184-8da6-43f0-803f-c33998e9824d",
   "metadata": {},
   "outputs": [
    {
     "name": "stdout",
     "output_type": "stream",
     "text": [
      "La aproximación de la raíz es: 1.3248\n"
     ]
    }
   ],
   "source": [
    "raiz = biseccion(f, a, b, tolerancia, int(n_iteraciones))\n",
    "print(f\"La aproximación de la raíz es: {raiz:.4f}\")"
   ]
  },
  {
   "cell_type": "markdown",
   "id": "5f15b7e8-4909-4aa8-9ec5-25f24d989cba",
   "metadata": {},
   "source": [
    "**GitHub:** [Métodos Númericos - @mateobtw18](https://github.com/mateobtw18/Metodos_Numericos)"
   ]
  }
 ],
 "metadata": {
  "kernelspec": {
   "display_name": "Python 3 (ipykernel)",
   "language": "python",
   "name": "python3"
  },
  "language_info": {
   "codemirror_mode": {
    "name": "ipython",
    "version": 3
   },
   "file_extension": ".py",
   "mimetype": "text/x-python",
   "name": "python",
   "nbconvert_exporter": "python",
   "pygments_lexer": "ipython3",
   "version": "3.12.4"
  }
 },
 "nbformat": 4,
 "nbformat_minor": 5
}
