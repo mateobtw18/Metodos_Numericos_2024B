{
 "cells": [
  {
   "cell_type": "code",
   "execution_count": 2,
   "id": "ee074b8b-0ef2-4dab-a1d3-ac10b2c816bb",
   "metadata": {},
   "outputs": [
    {
     "name": "stdout",
     "output_type": "stream",
     "text": [
      "Epoch 0, Loss: 6.9965\n",
      "Epoch 100, Loss: 0.1121\n",
      "Epoch 200, Loss: 0.0340\n",
      "Epoch 300, Loss: 0.0103\n",
      "Epoch 400, Loss: 0.0031\n",
      "Epoch 500, Loss: 0.0009\n",
      "Epoch 600, Loss: 0.0003\n",
      "Epoch 700, Loss: 0.0001\n",
      "Epoch 800, Loss: 0.0000\n",
      "Epoch 900, Loss: 0.0000\n",
      "Pesos entrenados: [[0.99878817]]\n",
      "Bias entrenado: [0.00258731]\n"
     ]
    }
   ],
   "source": [
    "import numpy as np\n",
    "\n",
    "# Datos de entrada y salida\n",
    "X = np.array([[0], [1], [2], [3]])\n",
    "y = np.array([[0], [1], [2], [3]])\n",
    "\n",
    "# Inicialización de pesos y bias\n",
    "w = np.random.randn(1, 1)\n",
    "b = np.random.randn(1)\n",
    "\n",
    "# Hiperparámetros\n",
    "learning_rate = 0.01\n",
    "epochs = 1000\n",
    "\n",
    "# Entrenamiento\n",
    "for epoch in range(epochs):\n",
    "    # Forward propagation\n",
    "    y_pred = X @ w + b\n",
    "\n",
    "    # Cálculo de la pérdida (MSE)\n",
    "    loss = np.mean((y - y_pred) ** 2)\n",
    "\n",
    "    # Backpropagation (Gradientes)\n",
    "    grad_w = -2 * np.mean(X * (y - y_pred), axis=0).reshape(-1, 1)\n",
    "    grad_b = -2 * np.mean(y - y_pred)\n",
    "\n",
    "    # Actualización de parámetros\n",
    "    w -= learning_rate * grad_w\n",
    "    b -= learning_rate * grad_b\n",
    "\n",
    "    # Mostrar progreso cada 100 épocas\n",
    "    if epoch % 100 == 0:\n",
    "        print(f\"Epoch {epoch}, Loss: {loss:.4f}\")\n",
    "\n",
    "print(\"Pesos entrenados:\", w)\n",
    "print(\"Bias entrenado:\", b)\n"
   ]
  }
 ],
 "metadata": {
  "kernelspec": {
   "display_name": "Python 3 (ipykernel)",
   "language": "python",
   "name": "python3"
  },
  "language_info": {
   "codemirror_mode": {
    "name": "ipython",
    "version": 3
   },
   "file_extension": ".py",
   "mimetype": "text/x-python",
   "name": "python",
   "nbconvert_exporter": "python",
   "pygments_lexer": "ipython3",
   "version": "3.12.4"
  }
 },
 "nbformat": 4,
 "nbformat_minor": 5
}
