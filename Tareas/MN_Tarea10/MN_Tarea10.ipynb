{
 "cells": [
  {
   "cell_type": "raw",
   "metadata": {
    "vscode": {
     "languageId": "raw"
    }
   },
   "source": [
    "---\n",
    "title: \"Descomposición LU\"\n",
    "author: \"Mateo Cumbal\"\n",
    "date: \"February 5, 2025\"\n",
    "lang: es\n",
    "format:\n",
    "  pdf:\n",
    "        number-sections: true\n",
    "        paginate: true\n",
    "        toc: true\n",
    "        links-color: blue\n",
    "        toc-title: \"Tabla de Contenidos\"  \n",
    "        tables: true\n",
    "        table-width: full\n",
    "        images-centered: true\n",
    "        highlight-style: tango\n",
    "execute:\n",
    "  echo: true\n",
    "  error: false\n",
    "  warning: false\n",
    "code-fold: true\n",
    "jupyter: python3\n",
    "output: pdf-document\n",
    "---"
   ]
  },
  {
   "cell_type": "code",
   "execution_count": 56,
   "metadata": {},
   "outputs": [],
   "source": [
    "import numpy as np"
   ]
  },
  {
   "cell_type": "code",
   "execution_count": 27,
   "metadata": {},
   "outputs": [
    {
     "name": "stdout",
     "output_type": "stream",
     "text": [
      "The autoreload extension is already loaded. To reload it, use:\n",
      "  %reload_ext autoreload\n"
     ]
    }
   ],
   "source": [
    "%load_ext autoreload\n",
    "\n",
    "%autoreload 2\n",
    "from src import descomposicion_LU, resolver_LU"
   ]
  },
  {
   "cell_type": "markdown",
   "metadata": {},
   "source": [
    "# CONJUNTO DE EJERCICIOS"
   ]
  },
  {
   "cell_type": "markdown",
   "metadata": {},
   "source": [
    "## Ejercicio 1"
   ]
  },
  {
   "cell_type": "markdown",
   "metadata": {},
   "source": [
    "**Realice las siguientes multiplicaciones matriz-matriz:**"
   ]
  },
  {
   "cell_type": "code",
   "execution_count": 28,
   "metadata": {},
   "outputs": [],
   "source": [
    "def multiplicacion_matrices(A: np.ndarray, B: np.ndarray) -> np.ndarray:\n",
    "    \"\"\"\n",
    "    Realiza la multiplicación de dos matrices y muestra el paso a paso.\n",
    "\n",
    "    Parámetros:\n",
    "    A: np.ndarray -> Matriz de tamaño (m, n)\n",
    "    B: np.ndarray -> Matriz de tamaño (n, p)\n",
    "\n",
    "    Retorna:\n",
    "    np.ndarray -> Matriz resultado de tamaño (m, p)\n",
    "    \"\"\"\n",
    "    assert (\n",
    "        A.shape[1] == B.shape[0]\n",
    "    ), \"El número de columnas de A debe coincidir con el número de filas de B.\"\n",
    "\n",
    "    m, n = A.shape\n",
    "    n, p = B.shape\n",
    "    C = np.zeros((m, p))\n",
    "\n",
    "    print(\"Multiplicación de matrices - Paso a Paso:\")\n",
    "    for i in range(m):\n",
    "        for j in range(p):\n",
    "            suma = 0\n",
    "            for k in range(n):\n",
    "                producto = A[i, k] * B[k, j]\n",
    "                suma += producto\n",
    "                print(\n",
    "                    f\"C[{i},{j}] += A[{i},{k}] * B[{k},{j}] -> {A[i, k]} * {B[k, j]} = {producto}\"\n",
    "                )\n",
    "            \n",
    "            C[i, j] = suma\n",
    "            print(f\"C[{i},{j}] = {suma}\\n\")\n",
    "\n",
    "    return C"
   ]
  },
  {
   "cell_type": "markdown",
   "metadata": {},
   "source": [
    "**a.**\n",
    "$$\n",
    "\\begin{bmatrix} \n",
    "2 & -3 \\\\ \n",
    "3 & -1 \n",
    "\\end{bmatrix}\n",
    "\\begin{bmatrix} \n",
    "1 & 5 \\\\ \n",
    "1 & 2 \n",
    "\\end{bmatrix}\n",
    "$$"
   ]
  },
  {
   "cell_type": "code",
   "execution_count": 29,
   "metadata": {},
   "outputs": [
    {
     "name": "stdout",
     "output_type": "stream",
     "text": [
      "Multiplicación de matrices - Paso a Paso:\n",
      "C[0,0] += A[0,0] * B[0,0] -> 2 * 1 = 2\n",
      "C[0,0] += A[0,1] * B[1,0] -> -3 * 2 = -6\n",
      "C[0,0] = -4\n",
      "\n",
      "C[0,1] += A[0,0] * B[0,1] -> 2 * 5 = 10\n",
      "C[0,1] += A[0,1] * B[1,1] -> -3 * 0 = 0\n",
      "C[0,1] = 10\n",
      "\n",
      "C[1,0] += A[1,0] * B[0,0] -> 3 * 1 = 3\n",
      "C[1,0] += A[1,1] * B[1,0] -> -1 * 2 = -2\n",
      "C[1,0] = 1\n",
      "\n",
      "C[1,1] += A[1,0] * B[0,1] -> 3 * 5 = 15\n",
      "C[1,1] += A[1,1] * B[1,1] -> -1 * 0 = 0\n",
      "C[1,1] = 15\n",
      "\n",
      "La matriz resultante C es:\n",
      "[[-4. 10.]\n",
      " [ 1. 15.]]\n"
     ]
    }
   ],
   "source": [
    "A = np.array([[2, -3], [3, -1]])\n",
    "B = np.array([[1, 5], [2, 0]])\n",
    "\n",
    "C = multiplicacion_matrices(A, B)\n",
    "print(f'La matriz resultante C es:\\n{C}')"
   ]
  },
  {
   "cell_type": "markdown",
   "metadata": {},
   "source": [
    "**b.**\n",
    "$$\n",
    "\\begin{bmatrix} \n",
    "2 & -3 \\\\ \n",
    "3 & -1 \n",
    "\\end{bmatrix}\n",
    "\\begin{bmatrix} \n",
    "1 & 5 & -4 \\\\ \n",
    "-3 & 2 & 0 \n",
    "\\end{bmatrix}\n",
    "$$"
   ]
  },
  {
   "cell_type": "code",
   "execution_count": 30,
   "metadata": {},
   "outputs": [
    {
     "name": "stdout",
     "output_type": "stream",
     "text": [
      "Multiplicación de matrices - Paso a Paso:\n",
      "C[0,0] += A[0,0] * B[0,0] -> 2 * 1 = 2\n",
      "C[0,0] += A[0,1] * B[1,0] -> -3 * -3 = 9\n",
      "C[0,0] = 11\n",
      "\n",
      "C[0,1] += A[0,0] * B[0,1] -> 2 * 5 = 10\n",
      "C[0,1] += A[0,1] * B[1,1] -> -3 * 2 = -6\n",
      "C[0,1] = 4\n",
      "\n",
      "C[0,2] += A[0,0] * B[0,2] -> 2 * -4 = -8\n",
      "C[0,2] += A[0,1] * B[1,2] -> -3 * 0 = 0\n",
      "C[0,2] = -8\n",
      "\n",
      "C[1,0] += A[1,0] * B[0,0] -> 3 * 1 = 3\n",
      "C[1,0] += A[1,1] * B[1,0] -> -1 * -3 = 3\n",
      "C[1,0] = 6\n",
      "\n",
      "C[1,1] += A[1,0] * B[0,1] -> 3 * 5 = 15\n",
      "C[1,1] += A[1,1] * B[1,1] -> -1 * 2 = -2\n",
      "C[1,1] = 13\n",
      "\n",
      "C[1,2] += A[1,0] * B[0,2] -> 3 * -4 = -12\n",
      "C[1,2] += A[1,1] * B[1,2] -> -1 * 0 = 0\n",
      "C[1,2] = -12\n",
      "\n",
      "La matriz resultante C es:\n",
      "[[ 11.   4.  -8.]\n",
      " [  6.  13. -12.]]\n"
     ]
    }
   ],
   "source": [
    "A = np.array([[2, -3], [3, -1]])\n",
    "B = np.array([[1, 5, -4], [-3, 2, 0]])\n",
    "\n",
    "C = multiplicacion_matrices(A, B)\n",
    "print(f\"La matriz resultante C es:\\n{C}\")"
   ]
  },
  {
   "cell_type": "markdown",
   "metadata": {},
   "source": [
    "**c.**\n",
    "$$\n",
    "\\begin{bmatrix} \n",
    "2 & -3 & 1 \\\\ \n",
    "4 & 3 & 0 \\\\ \n",
    "5 & 2 & -4 \n",
    "\\end{bmatrix}\n",
    "\\begin{bmatrix} \n",
    "0 & 1 & -2 \\\\ \n",
    "1 & 0 & -1 \\\\ \n",
    "2 & 3 & -2 \n",
    "\\end{bmatrix}\n",
    "$$"
   ]
  },
  {
   "cell_type": "code",
   "execution_count": 31,
   "metadata": {},
   "outputs": [
    {
     "name": "stdout",
     "output_type": "stream",
     "text": [
      "Multiplicación de matrices - Paso a Paso:\n",
      "C[0,0] += A[0,0] * B[0,0] -> 2 * 0 = 0\n",
      "C[0,0] += A[0,1] * B[1,0] -> -3 * 1 = -3\n",
      "C[0,0] += A[0,2] * B[2,0] -> 1 * 2 = 2\n",
      "C[0,0] = -1\n",
      "\n",
      "C[0,1] += A[0,0] * B[0,1] -> 2 * 1 = 2\n",
      "C[0,1] += A[0,1] * B[1,1] -> -3 * 0 = 0\n",
      "C[0,1] += A[0,2] * B[2,1] -> 1 * 3 = 3\n",
      "C[0,1] = 5\n",
      "\n",
      "C[0,2] += A[0,0] * B[0,2] -> 2 * -2 = -4\n",
      "C[0,2] += A[0,1] * B[1,2] -> -3 * -1 = 3\n",
      "C[0,2] += A[0,2] * B[2,2] -> 1 * -2 = -2\n",
      "C[0,2] = -3\n",
      "\n",
      "C[1,0] += A[1,0] * B[0,0] -> 4 * 0 = 0\n",
      "C[1,0] += A[1,1] * B[1,0] -> 3 * 1 = 3\n",
      "C[1,0] += A[1,2] * B[2,0] -> 0 * 2 = 0\n",
      "C[1,0] = 3\n",
      "\n",
      "C[1,1] += A[1,0] * B[0,1] -> 4 * 1 = 4\n",
      "C[1,1] += A[1,1] * B[1,1] -> 3 * 0 = 0\n",
      "C[1,1] += A[1,2] * B[2,1] -> 0 * 3 = 0\n",
      "C[1,1] = 4\n",
      "\n",
      "C[1,2] += A[1,0] * B[0,2] -> 4 * -2 = -8\n",
      "C[1,2] += A[1,1] * B[1,2] -> 3 * -1 = -3\n",
      "C[1,2] += A[1,2] * B[2,2] -> 0 * -2 = 0\n",
      "C[1,2] = -11\n",
      "\n",
      "C[2,0] += A[2,0] * B[0,0] -> 5 * 0 = 0\n",
      "C[2,0] += A[2,1] * B[1,0] -> 2 * 1 = 2\n",
      "C[2,0] += A[2,2] * B[2,0] -> -4 * 2 = -8\n",
      "C[2,0] = -6\n",
      "\n",
      "C[2,1] += A[2,0] * B[0,1] -> 5 * 1 = 5\n",
      "C[2,1] += A[2,1] * B[1,1] -> 2 * 0 = 0\n",
      "C[2,1] += A[2,2] * B[2,1] -> -4 * 3 = -12\n",
      "C[2,1] = -7\n",
      "\n",
      "C[2,2] += A[2,0] * B[0,2] -> 5 * -2 = -10\n",
      "C[2,2] += A[2,1] * B[1,2] -> 2 * -1 = -2\n",
      "C[2,2] += A[2,2] * B[2,2] -> -4 * -2 = 8\n",
      "C[2,2] = -4\n",
      "\n",
      "La matriz resultante C es:\n",
      "[[ -1.   5.  -3.]\n",
      " [  3.   4. -11.]\n",
      " [ -6.  -7.  -4.]]\n"
     ]
    }
   ],
   "source": [
    "A = np.array([[2, -3, 1], [4, 3, 0], [5, 2, -4]])\n",
    "B = np.array([[0, 1, -2], [1, 0, -1], [2, 3, -2]])\n",
    "\n",
    "C = multiplicacion_matrices(A, B)\n",
    "print(f\"La matriz resultante C es:\\n{C}\")"
   ]
  },
  {
   "cell_type": "markdown",
   "metadata": {},
   "source": [
    "**d.**\n",
    "$$\n",
    "\\begin{bmatrix} \n",
    "2 & 1 & 2 \\\\ \n",
    "-2 & 3 & 0 \\\\ \n",
    "2 & -1 & 3 \n",
    "\\end{bmatrix}\n",
    "\\begin{bmatrix} \n",
    "1 & -2 \\\\ \n",
    "-4 & 1 \\\\ \n",
    "0 & 2 \n",
    "\\end{bmatrix}\n",
    "$$"
   ]
  },
  {
   "cell_type": "code",
   "execution_count": 32,
   "metadata": {},
   "outputs": [
    {
     "name": "stdout",
     "output_type": "stream",
     "text": [
      "Multiplicación de matrices - Paso a Paso:\n",
      "C[0,0] += A[0,0] * B[0,0] -> 2 * 1 = 2\n",
      "C[0,0] += A[0,1] * B[1,0] -> 1 * -4 = -4\n",
      "C[0,0] += A[0,2] * B[2,0] -> 2 * 0 = 0\n",
      "C[0,0] = -2\n",
      "\n",
      "C[0,1] += A[0,0] * B[0,1] -> 2 * -2 = -4\n",
      "C[0,1] += A[0,1] * B[1,1] -> 1 * 1 = 1\n",
      "C[0,1] += A[0,2] * B[2,1] -> 2 * 2 = 4\n",
      "C[0,1] = 1\n",
      "\n",
      "C[1,0] += A[1,0] * B[0,0] -> -2 * 1 = -2\n",
      "C[1,0] += A[1,1] * B[1,0] -> 3 * -4 = -12\n",
      "C[1,0] += A[1,2] * B[2,0] -> 0 * 0 = 0\n",
      "C[1,0] = -14\n",
      "\n",
      "C[1,1] += A[1,0] * B[0,1] -> -2 * -2 = 4\n",
      "C[1,1] += A[1,1] * B[1,1] -> 3 * 1 = 3\n",
      "C[1,1] += A[1,2] * B[2,1] -> 0 * 2 = 0\n",
      "C[1,1] = 7\n",
      "\n",
      "C[2,0] += A[2,0] * B[0,0] -> 2 * 1 = 2\n",
      "C[2,0] += A[2,1] * B[1,0] -> -1 * -4 = 4\n",
      "C[2,0] += A[2,2] * B[2,0] -> 3 * 0 = 0\n",
      "C[2,0] = 6\n",
      "\n",
      "C[2,1] += A[2,0] * B[0,1] -> 2 * -2 = -4\n",
      "C[2,1] += A[2,1] * B[1,1] -> -1 * 1 = -1\n",
      "C[2,1] += A[2,2] * B[2,1] -> 3 * 2 = 6\n",
      "C[2,1] = 1\n",
      "\n",
      "La matriz resultante C es:\n",
      "[[ -2.   1.]\n",
      " [-14.   7.]\n",
      " [  6.   1.]]\n"
     ]
    }
   ],
   "source": [
    "A = np.array([[2, 1, 2], [-2, 3, 0], [2, -1, 3]])\n",
    "B = np.array([[1, -2], [-4, 1], [0, 2]])\n",
    "\n",
    "C = multiplicacion_matrices(A, B)\n",
    "print(f\"La matriz resultante C es:\\n{C}\")"
   ]
  },
  {
   "cell_type": "markdown",
   "metadata": {},
   "source": [
    "## Ejercicio 2"
   ]
  },
  {
   "cell_type": "markdown",
   "metadata": {},
   "source": [
    "**Determine cuáles de las siguientes matrices son no singulares y calcule la inversa de esas matrices:**"
   ]
  },
  {
   "cell_type": "code",
   "execution_count": 33,
   "metadata": {},
   "outputs": [],
   "source": [
    "def gauss_jordan_inversa(A: np.ndarray) -> np.ndarray:\n",
    "    \"\"\"\n",
    "    Calcula la inversa de una matriz usando el método de Gauss-Jordan.\n",
    "\n",
    "    :param A: Matriz cuadrada de tamaño n x n\n",
    "    :return: Matriz inversa de A\n",
    "    \"\"\"\n",
    "    n = A.shape[0]\n",
    "    assert A.shape[0] == A.shape[1], \"La matriz debe ser cuadrada.\"\n",
    "\n",
    "    # Construimos la matriz aumentada [A | I]\n",
    "    A = A.astype(float)\n",
    "    I = np.eye(n)\n",
    "    Augmented = np.hstack((A, I))\n",
    "\n",
    "    # Aplicamos el método de Gauss-Jordan\n",
    "    for i in range(n):\n",
    "        # Pivoteo parcial\n",
    "        if Augmented[i, i] == 0:\n",
    "            for j in range(i + 1, n):\n",
    "                if Augmented[j, i] != 0:\n",
    "                    Augmented[[i, j]] = Augmented[[j, i]]  # Intercambio de filas\n",
    "                    break\n",
    "            else:\n",
    "                raise ValueError(\"La matriz no es invertible.\")\n",
    "\n",
    "        # Hacer el pivote igual a 1\n",
    "        pivot = Augmented[i, i]\n",
    "        Augmented[i] = Augmented[i] / pivot\n",
    "\n",
    "        # Hacer ceros en la columna i\n",
    "        for j in range(n):\n",
    "            if i != j:\n",
    "                factor = Augmented[j, i]\n",
    "                Augmented[j] -= factor * Augmented[i]\n",
    "\n",
    "    # La parte derecha de la matriz aumentada ahora es la inversa de A\n",
    "    return Augmented, Augmented[:, n:]"
   ]
  },
  {
   "cell_type": "markdown",
   "metadata": {},
   "source": [
    "**a.**\n",
    "$$\n",
    "\\begin{bmatrix} \n",
    "4 & 2 & 6 \\\\ \n",
    "3 & 0 & 7 \\\\ \n",
    "-2 & -1 & -3 \n",
    "\\end{bmatrix}\n",
    "$$\n"
   ]
  },
  {
   "cell_type": "code",
   "execution_count": 34,
   "metadata": {},
   "outputs": [
    {
     "name": "stdout",
     "output_type": "stream",
     "text": [
      "ERROR: La matriz no es invertible.\n"
     ]
    }
   ],
   "source": [
    "A = np.array(\n",
    "    [[4, 2, 6], \n",
    "    [3, 0, 7], \n",
    "    [-2, -1, -3]]\n",
    ")\n",
    "\n",
    "try:\n",
    "    aumentada, inversa = gauss_jordan_inversa(A)\n",
    "    print(f\"La matriz aumentada es:\\n{aumentada}\")\n",
    "    print(f\"\\nPor lo tanto, la matriz inversa es:\\n{inversa}\")\n",
    "\n",
    "except ValueError as e:\n",
    "    print(\"ERROR:\", e)"
   ]
  },
  {
   "cell_type": "markdown",
   "metadata": {},
   "source": [
    "**b.**\n",
    "$$\n",
    "\\begin{bmatrix} \n",
    "1 & 2 & 0 \\\\ \n",
    "2 & 1 & -1 \\\\ \n",
    "3 & 1 & 1 \n",
    "\\end{bmatrix}\n",
    "$$"
   ]
  },
  {
   "cell_type": "code",
   "execution_count": 35,
   "metadata": {},
   "outputs": [
    {
     "name": "stdout",
     "output_type": "stream",
     "text": [
      "La matriz aumentada es:\n",
      "[[ 1.     0.     0.    -0.25   0.25   0.25 ]\n",
      " [-0.     1.     0.     0.625 -0.125 -0.125]\n",
      " [ 0.     0.     1.     0.125 -0.625  0.375]]\n",
      "\n",
      "Por lo tanto, la matriz inversa es:\n",
      "[[-0.25   0.25   0.25 ]\n",
      " [ 0.625 -0.125 -0.125]\n",
      " [ 0.125 -0.625  0.375]]\n"
     ]
    }
   ],
   "source": [
    "B = np.array(\n",
    "    [[1, 2, 0],\n",
    "    [2, 1, -1],\n",
    "    [3, 1 , 1]]\n",
    ")\n",
    "\n",
    "try:\n",
    "    aumentada, inversa = gauss_jordan_inversa(B)\n",
    "    print(f\"La matriz aumentada es:\\n{aumentada}\")\n",
    "    print(f\"\\nPor lo tanto, la matriz inversa es:\\n{inversa}\")\n",
    "\n",
    "except ValueError as e:\n",
    "    print(\"ERROR:\", e)"
   ]
  },
  {
   "cell_type": "markdown",
   "metadata": {},
   "source": [
    "**c.**\n",
    "$$\n",
    "\\begin{bmatrix} \n",
    "1 & 1 & -1 & 1 \\\\ \n",
    "1 & 2 & -4 & -2 \\\\ \n",
    "2 & 1 & 1 & 5 \\\\ \n",
    "-1 & 0 & -2 & -4 \n",
    "\\end{bmatrix}\n",
    "$$"
   ]
  },
  {
   "cell_type": "code",
   "execution_count": 36,
   "metadata": {},
   "outputs": [
    {
     "name": "stdout",
     "output_type": "stream",
     "text": [
      "ERROR: La matriz no es invertible.\n"
     ]
    }
   ],
   "source": [
    "C = np.array(\n",
    "    [[1, 1, -1, 1], \n",
    "     [1, 2, -4, -2], \n",
    "     [2, 1, 1, 5], \n",
    "     [-1, 0, -2, -4]]\n",
    ")\n",
    "\n",
    "\n",
    "try:\n",
    "    aumentada, inversa = gauss_jordan_inversa(C)\n",
    "    print(f\"La matriz aumentada es:\\n{aumentada}\")\n",
    "    print(f\"\\nPor lo tanto, la matriz inversa es:\\n{inversa}\")\n",
    "\n",
    "except ValueError as e:\n",
    "    print(\"ERROR:\", e)"
   ]
  },
  {
   "cell_type": "markdown",
   "metadata": {},
   "source": [
    "**d.**\n",
    "$$\n",
    "\\begin{bmatrix} \n",
    "4 & 0 & 0 & 0 \\\\ \n",
    "6 & 7 & 0 & 0 \\\\ \n",
    "9 & 11 & 1 & 0 \\\\ \n",
    "5 & 4 & 1 & 1 \n",
    "\\end{bmatrix}\n",
    "$$"
   ]
  },
  {
   "cell_type": "code",
   "execution_count": 37,
   "metadata": {},
   "outputs": [
    {
     "name": "stdout",
     "output_type": "stream",
     "text": [
      "La matriz aumentada es:\n",
      "[[ 1.          0.          0.          0.          0.25        0.\n",
      "   0.          0.        ]\n",
      " [ 0.          1.          0.          0.         -0.21428571  0.14285714\n",
      "   0.          0.        ]\n",
      " [ 0.          0.          1.          0.          0.10714286 -1.57142857\n",
      "   1.          0.        ]\n",
      " [ 0.          0.          0.          1.         -0.5         1.\n",
      "  -1.          1.        ]]\n",
      "\n",
      "Por lo tanto, la matriz inversa es:\n",
      "[[ 0.25        0.          0.          0.        ]\n",
      " [-0.21428571  0.14285714  0.          0.        ]\n",
      " [ 0.10714286 -1.57142857  1.          0.        ]\n",
      " [-0.5         1.         -1.          1.        ]]\n"
     ]
    }
   ],
   "source": [
    "D = np.array(\n",
    "    [[4, 0, 0, 0], \n",
    "    [6, 7, 0, 0], \n",
    "    [9, 11, 1, 0], \n",
    "    [5, 4, 1, 1]]\n",
    ")\n",
    "\n",
    "try:\n",
    "    aumentada, inversa = gauss_jordan_inversa(D)\n",
    "    print(f\"La matriz aumentada es:\\n{aumentada}\")\n",
    "    print(f\"\\nPor lo tanto, la matriz inversa es:\\n{inversa}\")\n",
    "\n",
    "except ValueError as e:\n",
    "    print(\"ERROR:\", e)"
   ]
  },
  {
   "cell_type": "markdown",
   "metadata": {},
   "source": [
    "## Ejercicio 3"
   ]
  },
  {
   "cell_type": "markdown",
   "metadata": {},
   "source": [
    "**Resuelva los sistemas lineales $4 \\times 4$ que tienen la misma matriz de coeficientes:**"
   ]
  },
  {
   "cell_type": "markdown",
   "metadata": {},
   "source": [
    "**1.**\n",
    "$$\n",
    "\\begin{aligned}\n",
    "x_1 - x_2 + 2x_3 - x_4 &= 6, \\\\\n",
    "x_1 - x_3 + x_4 &= 4, \\\\\n",
    "2x_1 + x_2 + 3x_3 - 4x_4 &= -2, \\\\\n",
    "- x_2 + x_3 + x_4 &= 5.\n",
    "\\end{aligned}\n",
    "$$\n",
    "\n",
    "**2.**\n",
    "$$\n",
    "\\begin{aligned}\n",
    "x_1 - x_2 + 2x_3 - x_4 &= 1, \\\\\n",
    "x_1 - x_3 + x_4 &= 1, \\\\\n",
    "2x_1 + x_2 + 3x_3 - 4x_4 &= 2, \\\\\n",
    "- x_2 + x_3 + x_4 &= -1.\n",
    "\\end{aligned}\n",
    "$$"
   ]
  },
  {
   "cell_type": "markdown",
   "metadata": {},
   "source": [
    "La matriz de coeficiente y las matrices L y U, después de descomponer A, son:"
   ]
  },
  {
   "cell_type": "code",
   "execution_count": 51,
   "metadata": {},
   "outputs": [
    {
     "name": "stdout",
     "output_type": "stream",
     "text": [
      "[02-03 18:33:18][INFO] \n",
      "[[ 1. -1.  2. -1.]\n",
      " [ 0.  1. -3.  2.]\n",
      " [ 0.  3. -1. -2.]\n",
      " [ 0. -1.  1. -1.]]\n",
      "[02-03 18:33:18][INFO] \n",
      "[[ 1. -1.  2. -1.]\n",
      " [ 0.  1. -3.  2.]\n",
      " [ 0.  0.  8. -8.]\n",
      " [ 0.  0. -2.  1.]]\n",
      "[02-03 18:33:18][INFO] \n",
      "[[ 1. -1.  2. -1.]\n",
      " [ 0.  1. -3.  2.]\n",
      " [ 0.  0.  8. -8.]\n",
      " [ 0.  0.  0. -1.]]\n",
      "[02-03 18:33:18][INFO] \n",
      "[[ 1. -1.  2. -1.]\n",
      " [ 0.  1. -3.  2.]\n",
      " [ 0.  0.  8. -8.]\n",
      " [ 0.  0.  0. -1.]]\n",
      "\n",
      "Descomposición de la matriz A\n",
      "- Matriz L\n",
      "[[ 1.    0.    0.    0.  ]\n",
      " [ 1.    1.    0.    0.  ]\n",
      " [ 2.    3.    1.    0.  ]\n",
      " [ 0.   -1.   -0.25  1.  ]]\n",
      "- Matriz U\n",
      "[[ 1. -1.  2. -1.]\n",
      " [ 0.  1. -3.  2.]\n",
      " [ 0.  0.  8. -8.]\n",
      " [ 0.  0.  0. -1.]]\n"
     ]
    }
   ],
   "source": [
    "A = np.array(\n",
    "    [[1, -1, 2, -1],\n",
    "     [1, 0, -1, 1],\n",
    "     [2, 1, 3, -4],\n",
    "     [0, -1, 1, -1]]\n",
    ")\n",
    "\n",
    "L, U = descomposicion_LU(A)\n",
    "\n",
    "print('\\nDescomposición de la matriz A')\n",
    "print(f'- Matriz L\\n{L}')\n",
    "print(f'- Matriz U\\n{U}')"
   ]
  },
  {
   "cell_type": "markdown",
   "metadata": {},
   "source": [
    "Ahora podemos resolver para cualquier vector **b** del sistema."
   ]
  },
  {
   "cell_type": "markdown",
   "metadata": {},
   "source": [
    "**1. Primer Sistema**"
   ]
  },
  {
   "cell_type": "code",
   "execution_count": 52,
   "metadata": {},
   "outputs": [
    {
     "name": "stdout",
     "output_type": "stream",
     "text": [
      "[02-03 18:33:26][INFO] Sustitución hacia adelante\n",
      "[02-03 18:33:26][INFO] y = \n",
      "[[ 6.]\n",
      " [-2.]\n",
      " [-8.]\n",
      " [ 1.]]\n",
      "[02-03 18:33:26][INFO] Sustitución hacia atrás\n",
      "[02-03 18:33:26][INFO] i = 2\n",
      "[02-03 18:33:26][INFO] suma = [8.]\n",
      "[02-03 18:33:26][INFO] U[i, i] = 8.0\n",
      "[02-03 18:33:26][INFO] y[i] = [-8.]\n",
      "[02-03 18:33:26][INFO] i = 1\n",
      "[02-03 18:33:26][INFO] suma = [4.]\n",
      "[02-03 18:33:26][INFO] U[i, i] = 1.0\n",
      "[02-03 18:33:26][INFO] y[i] = [-2.]\n",
      "[02-03 18:33:26][INFO] i = 0\n",
      "[02-03 18:33:26][INFO] suma = [3.]\n",
      "[02-03 18:33:26][INFO] U[i, i] = 1.0\n",
      "[02-03 18:33:26][INFO] y[i] = [6.]\n",
      "\n",
      "La solución del sistema para b1 es:\n",
      "[[ 3.]\n",
      " [-6.]\n",
      " [-2.]\n",
      " [-1.]]\n"
     ]
    }
   ],
   "source": [
    "b1 = np.array([6, 4, -2, 5])\n",
    "\n",
    "x1 = resolver_LU(L, U, b1)\n",
    "print(f'\\nLa solución del sistema para b1 es:\\n{x1}')"
   ]
  },
  {
   "cell_type": "markdown",
   "metadata": {},
   "source": [
    "**2. Segundo Sistema**"
   ]
  },
  {
   "cell_type": "code",
   "execution_count": 53,
   "metadata": {},
   "outputs": [
    {
     "name": "stdout",
     "output_type": "stream",
     "text": [
      "[02-03 18:33:29][INFO] Sustitución hacia adelante\n",
      "[02-03 18:33:29][INFO] y = \n",
      "[[ 1.]\n",
      " [ 0.]\n",
      " [ 0.]\n",
      " [-1.]]\n",
      "[02-03 18:33:29][INFO] Sustitución hacia atrás\n",
      "[02-03 18:33:29][INFO] i = 2\n",
      "[02-03 18:33:29][INFO] suma = [-8.]\n",
      "[02-03 18:33:29][INFO] U[i, i] = 8.0\n"
     ]
    },
    {
     "name": "stdout",
     "output_type": "stream",
     "text": [
      "[02-03 18:33:29][INFO] y[i] = [0.]\n",
      "[02-03 18:33:29][INFO] i = 1\n",
      "[02-03 18:33:29][INFO] suma = [-1.]\n",
      "[02-03 18:33:29][INFO] U[i, i] = 1.0\n",
      "[02-03 18:33:29][INFO] y[i] = [0.]\n",
      "[02-03 18:33:29][INFO] i = 0\n",
      "[02-03 18:33:29][INFO] suma = [0.]\n",
      "[02-03 18:33:29][INFO] U[i, i] = 1.0\n",
      "[02-03 18:33:29][INFO] y[i] = [1.]\n",
      "\n",
      "La solución del sistema para b2 es:\n",
      "[[1.]\n",
      " [1.]\n",
      " [1.]\n",
      " [1.]]\n"
     ]
    }
   ],
   "source": [
    "b2 = np.array([1, 1, 2, -1])\n",
    "\n",
    "x2 = resolver_LU(L, U, b2)\n",
    "print(f\"\\nLa solución del sistema para b2 es:\\n{x2}\")"
   ]
  },
  {
   "cell_type": "markdown",
   "metadata": {},
   "source": [
    "## Ejercicio 4"
   ]
  },
  {
   "cell_type": "markdown",
   "metadata": {},
   "source": [
    "**Encuentre los valores de A que hacen que la siguiente matriz sea singular.**\n",
    "\n",
    "$$A = \\begin{bmatrix} 1 & -1 & \\alpha \\\\ 2 & 2 & 1 \\\\ 0 & \\alpha & -\\frac{3}{2} \\end{bmatrix}$$"
   ]
  },
  {
   "cell_type": "markdown",
   "metadata": {},
   "source": [
    "Se tiene la matriz original:\n",
    "\n",
    "$$A^{(0)} = \\begin{bmatrix} 1 & -1 & \\alpha \\\\ 2 & 2 & 1 \\\\ 0 & \\alpha & -\\frac{3}{2} \\end{bmatrix}$$\n",
    "\n",
    "Se aplica la transformación en la segunda fila para hacer ceros en la primera columna:\n",
    "\n",
    "$$-2 \\cdot F1+F2 \\longrightarrow F2$$\n",
    "\n",
    "Después de la transformación, la matriz queda como:\n",
    "\n",
    "$$A^{(1)} = \\begin{bmatrix} 1 & -1 & \\alpha \\\\ 0 & 4 & -2\\alpha+1 \\\\ 0 & \\alpha & -\\frac{3}{2} \\end{bmatrix}$$\n",
    "\n",
    "Esta nueva matriz, facilita el cálculo del determinante.\n",
    "\n",
    "---"
   ]
  },
  {
   "cell_type": "markdown",
   "metadata": {},
   "source": [
    "El determinante de la matriz $$A^{(1)}$$ se calcula utilizando el método clásico, desarrollándolo por la primera columna:\n",
    "\n",
    "$$A^{(1)} = \\begin{bmatrix} 1 & -1 & \\alpha \\\\ 0 & 4 & -2\\alpha+1 \\\\ 0 & \\alpha & -\\frac{3}{2} \\end{bmatrix}$$\n",
    "\n",
    "Como la primera columna tiene dos ceros, el cálculo del determinante se simplifica considerablemente:\n",
    "\n",
    "$$\\det(A^{(1)}) = 1 \\cdot \\begin{vmatrix} 4 & -2\\alpha+1 \\\\ \\alpha & -\\frac{3}{2} \\end{vmatrix}$$\n",
    "\n",
    "Ahora, calculamos el determinante de la submatriz $2 \\times 2$:\n",
    "\n",
    "$$\\begin{vmatrix} 4 & -2\\alpha+1 \\\\ \\alpha & -\\frac{3}{2} \\end{vmatrix} = (4)(-\\frac{3}{2}) - (-2\\alpha+1)(\\alpha)$$\n",
    "\n",
    "$$= -6 - (-2\\alpha^2 + \\alpha)$$\n",
    "\n",
    "$$\n",
    "= -6 + 2\\alpha^2 - \\alpha\n",
    "$$\n",
    "\n",
    "Sustituyendo en la ecuación del determinante:\n",
    "\n",
    "$$\n",
    "\\det(A^{(1)}) = 1 \\cdot (2\\alpha^2 - \\alpha - 6)\n",
    "$$\n",
    "\n",
    "Por lo tanto, el determinante de $A^{(1)}$ es:\n",
    "\n",
    "$$\n",
    "\\det(A^{(1)}) = 2\\alpha^2 - \\alpha - 6.\n",
    "$$\n",
    "---\n"
   ]
  },
  {
   "cell_type": "markdown",
   "metadata": {},
   "source": [
    "Para que $A$ sea **singular**:\n",
    "\n",
    "$$\n",
    "2\\alpha^2 - \\alpha - 6 = 0\n",
    "$$\n",
    "\n",
    "Factorando los términos y resolviendo la ecuación:\n",
    "\n",
    "$$\n",
    "(2\\alpha + 4)(2\\alpha + 3) = 0\n",
    "$$\n",
    "\n",
    "$$\n",
    "\\alpha_1 =  2, \\quad \\alpha_2 = -\\frac{3}{2}\n",
    "$$\n",
    "\n",
    "\n",
    "Por lo tanto, la matriz $A$ será singular cuando:\n",
    "\n",
    "$$\n",
    "\\alpha = 2 \\quad \\text{o} \\quad \\alpha = -\\frac{3}{2}\n",
    "$$\n"
   ]
  },
  {
   "cell_type": "markdown",
   "metadata": {},
   "source": [
    "## Ejercicio 5\n",
    "\n",
    "**Resuelva los siguientes sistemas lineales:**\n",
    "\n",
    "**a.**\n",
    "$$\n",
    "\\begin{bmatrix} \n",
    "1 & 0 & 0 \\\\ \n",
    "2 & 1 & 0 \\\\ \n",
    "-1 & 0 & 1 \n",
    "\\end{bmatrix} \n",
    "\\begin{bmatrix} \n",
    "2 & 3 & -1 \\\\ \n",
    "0 & -2 & 1 \\\\ \n",
    "0 & 0 & 3 \n",
    "\\end{bmatrix} \n",
    "\\begin{bmatrix} \n",
    "x_1 \\\\ \n",
    "x_2 \\\\ \n",
    "x_3 \n",
    "\\end{bmatrix} \n",
    "= \n",
    "\\begin{bmatrix} \n",
    "2 \\\\ \n",
    "-1 \\\\ \n",
    "1 \n",
    "\\end{bmatrix}\n",
    "$$"
   ]
  },
  {
   "cell_type": "code",
   "execution_count": 41,
   "metadata": {},
   "outputs": [
    {
     "name": "stdout",
     "output_type": "stream",
     "text": [
      "[02-03 17:43:50][INFO] Sustitución hacia adelante\n",
      "[02-03 17:43:50][INFO] y = \n",
      "[[ 2.]\n",
      " [-5.]\n",
      " [ 3.]]\n",
      "[02-03 17:43:50][INFO] Sustitución hacia atrás\n",
      "[02-03 17:43:50][INFO] i = 1\n",
      "[02-03 17:43:50][INFO] suma = [1.]\n",
      "[02-03 17:43:50][INFO] U[i, i] = -2\n",
      "[02-03 17:43:50][INFO] y[i] = [-5.]\n",
      "[02-03 17:43:50][INFO] i = 0\n",
      "[02-03 17:43:50][INFO] suma = [8.]\n",
      "[02-03 17:43:50][INFO] U[i, i] = 2\n",
      "[02-03 17:43:50][INFO] y[i] = [2.]\n",
      "\n",
      "La solución del sistema es:\n",
      "[[-3.]\n",
      " [ 3.]\n",
      " [ 1.]]\n"
     ]
    }
   ],
   "source": [
    "L1 = np.array(\n",
    "    [[1, 0, 0],\n",
    "     [2, 1, 0],\n",
    "     [-1, 0, 1]]\n",
    ")\n",
    "\n",
    "L2 = np.array(\n",
    "    [[2, 3, -1],\n",
    "     [0, -2, 1],\n",
    "     [0, 0, 3]]\n",
    ")\n",
    "\n",
    "b1 = np.array([2, -1, 1])\n",
    "\n",
    "x1 = resolver_LU(L1, L2, b1)\n",
    "print(f'\\nLa solución del sistema es:\\n{x1}')"
   ]
  },
  {
   "cell_type": "markdown",
   "metadata": {},
   "source": [
    "**b.**\n",
    "$$\n",
    "\\begin{bmatrix} \n",
    "2 & 0 & 0 \\\\ \n",
    "-1 & 1 & 0 \\\\ \n",
    "3 & 2 & -1 \n",
    "\\end{bmatrix} \n",
    "\\begin{bmatrix} \n",
    "1 & 1 & 1 \\\\ \n",
    "0 & 1 & 2 \\\\ \n",
    "0 & 0 & 1 \n",
    "\\end{bmatrix} \n",
    "\\begin{bmatrix} \n",
    "x_1 \\\\ \n",
    "x_2 \\\\ \n",
    "x_3 \n",
    "\\end{bmatrix} \n",
    "= \n",
    "\\begin{bmatrix} \n",
    "-1 \\\\ \n",
    "3 \\\\ \n",
    "0 \n",
    "\\end{bmatrix}\n",
    "$$"
   ]
  },
  {
   "cell_type": "code",
   "execution_count": 42,
   "metadata": {},
   "outputs": [
    {
     "name": "stdout",
     "output_type": "stream",
     "text": [
      "[02-03 17:43:50][INFO] Sustitución hacia adelante\n",
      "[02-03 17:43:50][INFO] y = \n",
      "[[-0.5]\n",
      " [ 2.5]\n",
      " [ 3.5]]\n",
      "[02-03 17:43:50][INFO] Sustitución hacia atrás\n",
      "[02-03 17:43:50][INFO] i = 1\n",
      "[02-03 17:43:50][INFO] suma = [7.]\n",
      "[02-03 17:43:50][INFO] U[i, i] = 1\n",
      "[02-03 17:43:50][INFO] y[i] = [2.5]\n",
      "[02-03 17:43:50][INFO] i = 0\n",
      "[02-03 17:43:50][INFO] suma = [-1.]\n",
      "[02-03 17:43:50][INFO] U[i, i] = 1\n",
      "[02-03 17:43:50][INFO] y[i] = [-0.5]\n",
      "\n",
      "La solución del sistema es:\n",
      "[[ 0.5]\n",
      " [-4.5]\n",
      " [ 3.5]]\n"
     ]
    }
   ],
   "source": [
    "L2 = np.array(\n",
    "    [[2, 0, 0],\n",
    "     [-1, 1, 0],\n",
    "     [3, 2, -1]]\n",
    ")\n",
    "\n",
    "U2 = np.array(\n",
    "    [[1, 1, 1],\n",
    "     [0, 1, 2],\n",
    "     [0, 0, 1]]\n",
    ")\n",
    "\n",
    "b2 = np.array([-1, 3, 0])\n",
    "\n",
    "x2 = resolver_LU(L2, U2, b2)\n",
    "print(f\"\\nLa solución del sistema es:\\n{x2}\")"
   ]
  },
  {
   "cell_type": "markdown",
   "metadata": {},
   "source": [
    "## Ejercicio 6"
   ]
  },
  {
   "cell_type": "markdown",
   "metadata": {},
   "source": [
    " **Factorice las siguientes matrices en la descomposición LU mediante el algoritmo de factorización LU con $l_{ii} = 1$ para todas las $i$.**\n",
    "\n",
    "**a.**\n",
    "$$\n",
    "\\begin{bmatrix} \n",
    "2 & -1 & 1 \\\\ \n",
    "3 & 3 & 9 \\\\ \n",
    "3 & 3 & 5 \n",
    "\\end{bmatrix}\n",
    "$$"
   ]
  },
  {
   "cell_type": "code",
   "execution_count": 55,
   "metadata": {},
   "outputs": [
    {
     "name": "stdout",
     "output_type": "stream",
     "text": [
      "[02-03 18:36:50][INFO] \n",
      "[[ 2.  -1.   1. ]\n",
      " [ 0.   4.5  7.5]\n",
      " [ 0.   4.5  3.5]]\n",
      "[02-03 18:36:50][INFO] \n",
      "[[ 2.  -1.   1. ]\n",
      " [ 0.   4.5  7.5]\n",
      " [ 0.   0.  -4. ]]\n",
      "[02-03 18:36:50][INFO] \n",
      "[[ 2.  -1.   1. ]\n",
      " [ 0.   4.5  7.5]\n",
      " [ 0.   0.  -4. ]]\n",
      "\n",
      "Descomposición de la matriz\n",
      "- Matriz L\n",
      "[[1.  0.  0. ]\n",
      " [1.5 1.  0. ]\n",
      " [1.5 1.  1. ]]\n",
      "- Matriz U\n",
      "[[ 2.  -1.   1. ]\n",
      " [ 0.   4.5  7.5]\n",
      " [ 0.   0.  -4. ]]\n"
     ]
    }
   ],
   "source": [
    "X = np.array(\n",
    "    [[2, -1, 1],\n",
    "     [3, 3, 9],\n",
    "     [3,3, 5]]\n",
    ")\n",
    "\n",
    "L1, U1 = descomposicion_LU(X)\n",
    "\n",
    "print(\"\\nDescomposición de la matriz\")\n",
    "print(f\"- Matriz L\\n{L1}\")\n",
    "print(f\"- Matriz U\\n{U1}\")"
   ]
  },
  {
   "cell_type": "markdown",
   "metadata": {},
   "source": [
    "**b.**\n",
    "$$\n",
    "\\begin{bmatrix} \n",
    "1.012 & -2.132 & 3.104 \\\\ \n",
    "-2.132 & 4.096 & -7.013 \\\\ \n",
    "3.104 & -7.013 & 0.014 \n",
    "\\end{bmatrix}\n",
    "$$"
   ]
  },
  {
   "cell_type": "code",
   "execution_count": 44,
   "metadata": {},
   "outputs": [
    {
     "name": "stdout",
     "output_type": "stream",
     "text": [
      "[[ 1.012 -2.132  3.104]\n",
      " [-2.132  4.096 -7.013]\n",
      " [ 3.104 -7.013  0.014]]\n",
      "[02-03 17:43:50][INFO] \n",
      "[[ 1.012      -2.132       3.104     ]\n",
      " [ 0.         -0.39552569 -0.47374308]\n",
      " [ 0.         -0.47374308 -9.50656917]]\n",
      "[02-03 17:43:50][INFO] \n",
      "[[ 1.012      -2.132       3.104     ]\n",
      " [ 0.         -0.39552569 -0.47374308]\n",
      " [ 0.          0.         -8.93914077]]\n",
      "[02-03 17:43:50][INFO] \n",
      "[[ 1.012      -2.132       3.104     ]\n",
      " [ 0.         -0.39552569 -0.47374308]\n",
      " [ 0.          0.         -8.93914077]]\n",
      "\n",
      "Descomposición de la matriz\n",
      "- Matriz L\n",
      "[[ 1.          0.          0.        ]\n",
      " [-2.10671937  1.          0.        ]\n",
      " [ 3.06719368  1.19775553  1.        ]]\n",
      "- Matriz U\n",
      "[[ 1.012      -2.132       3.104     ]\n",
      " [ 0.         -0.39552569 -0.47374308]\n",
      " [ 0.          0.         -8.93914077]]\n"
     ]
    }
   ],
   "source": [
    "Y = np.array(\n",
    "    [[1.012, -2.132, 3.104],\n",
    "     [-2.132, 4.096, -7.013],\n",
    "     [3.104, -7.013, 0.014]]\n",
    ")\n",
    "\n",
    "print(Y)\n",
    "\n",
    "L2, U2 = descomposicion_LU(Y)\n",
    "\n",
    "print(\"\\nDescomposición de la matriz\")\n",
    "print(f\"- Matriz L\\n{L2}\")\n",
    "print(f\"- Matriz U\\n{U2}\")"
   ]
  },
  {
   "cell_type": "markdown",
   "metadata": {},
   "source": [
    "**c.**\n",
    "$$\n",
    "\\begin{bmatrix} \n",
    "2 & 0 & 0 & 0 \\\\ \n",
    "1 & 1.5 & 0 & 0 \\\\ \n",
    "0 & -3 & 0.5 & 0 \\\\ \n",
    "2 & -2 & 1 & 1 \n",
    "\\end{bmatrix}\n",
    "$$"
   ]
  },
  {
   "cell_type": "code",
   "execution_count": 45,
   "metadata": {},
   "outputs": [
    {
     "name": "stdout",
     "output_type": "stream",
     "text": [
      "[02-03 17:43:50][INFO] \n",
      "[[ 2.   0.   0.   0. ]\n",
      " [ 0.   1.5  0.   0. ]\n",
      " [ 0.  -3.   0.5  0. ]\n",
      " [ 0.  -2.   1.   1. ]]\n",
      "[02-03 17:43:50][INFO] \n",
      "[[2.  0.  0.  0. ]\n",
      " [0.  1.5 0.  0. ]\n",
      " [0.  0.  0.5 0. ]\n",
      " [0.  0.  1.  1. ]]\n",
      "[02-03 17:43:50][INFO] \n",
      "[[2.  0.  0.  0. ]\n",
      " [0.  1.5 0.  0. ]\n",
      " [0.  0.  0.5 0. ]\n",
      " [0.  0.  0.  1. ]]\n",
      "[02-03 17:43:50][INFO] \n",
      "[[2.  0.  0.  0. ]\n",
      " [0.  1.5 0.  0. ]\n",
      " [0.  0.  0.5 0. ]\n",
      " [0.  0.  0.  1. ]]\n",
      "\n",
      "Descomposición de la matriz\n",
      "- Matriz L\n",
      "[[ 1.          0.          0.          0.        ]\n",
      " [ 0.5         1.          0.          0.        ]\n",
      " [ 0.         -2.          1.          0.        ]\n",
      " [ 1.         -1.33333333  2.          1.        ]]\n",
      "- Matriz U\n",
      "[[2.  0.  0.  0. ]\n",
      " [0.  1.5 0.  0. ]\n",
      " [0.  0.  0.5 0. ]\n",
      " [0.  0.  0.  1. ]]\n"
     ]
    }
   ],
   "source": [
    "Z = np.array(\n",
    "    [[2, 0, 0, 0],\n",
    "     [1, 1.5, 0, 0],\n",
    "     [0, -3, 0.5, 0],\n",
    "     [2, -2, 1, 1]]\n",
    ")\n",
    "\n",
    "L3, U3 = descomposicion_LU(Z)\n",
    "\n",
    "print(\"\\nDescomposición de la matriz\")\n",
    "print(f\"- Matriz L\\n{L3}\")\n",
    "print(f\"- Matriz U\\n{U3}\")"
   ]
  },
  {
   "cell_type": "markdown",
   "metadata": {},
   "source": [
    "**d.**\n",
    "$$\n",
    "\\begin{bmatrix} \n",
    "2.1756 & 4.0231 & -2.1732 & 5.1967 \\\\ \n",
    "-4.0231 & 6.0000 & 0 & 1.1973 \\\\ \n",
    "-1.0000 & -5.2107 & 1.1111 & 1.1111 \\\\ \n",
    "6.0235 & 7.0000 & 0 & -4.1561 \n",
    "\\end{bmatrix}\n",
    "$$"
   ]
  },
  {
   "cell_type": "code",
   "execution_count": 46,
   "metadata": {},
   "outputs": [
    {
     "name": "stdout",
     "output_type": "stream",
     "text": [
      "[02-03 17:43:50][INFO] \n",
      "[[  2.1756       4.0231      -2.1732       5.1967    ]\n",
      " [  0.          13.43948042  -4.01866194  10.80699101]\n",
      " [  0.          -3.36150897   0.11220314   3.49972842]\n",
      " [  0.          -4.13860216   6.01685521 -18.54400331]]\n",
      "[02-03 17:43:50][INFO] \n",
      "[[ 2.17560000e+00  4.02310000e+00 -2.17320000e+00  5.19670000e+00]\n",
      " [ 0.00000000e+00  1.34394804e+01 -4.01866194e+00  1.08069910e+01]\n",
      " [ 0.00000000e+00  4.44089210e-16 -8.92952394e-01  6.20279403e+00]\n",
      " [ 0.00000000e+00  0.00000000e+00  4.77933394e+00 -1.52160595e+01]]\n",
      "[02-03 17:43:50][INFO] \n",
      "[[ 2.17560000e+00  4.02310000e+00 -2.17320000e+00  5.19670000e+00]\n",
      " [ 0.00000000e+00  1.34394804e+01 -4.01866194e+00  1.08069910e+01]\n",
      " [ 0.00000000e+00  4.44089210e-16 -8.92952394e-01  6.20279403e+00]\n",
      " [ 0.00000000e+00  0.00000000e+00  0.00000000e+00  1.79830497e+01]]\n",
      "[02-03 17:43:50][INFO] \n",
      "[[ 2.17560000e+00  4.02310000e+00 -2.17320000e+00  5.19670000e+00]\n",
      " [ 0.00000000e+00  1.34394804e+01 -4.01866194e+00  1.08069910e+01]\n",
      " [ 0.00000000e+00  4.44089210e-16 -8.92952394e-01  6.20279403e+00]\n",
      " [ 0.00000000e+00  0.00000000e+00  0.00000000e+00  1.79830497e+01]]\n",
      "\n",
      "Descomposición de la matriz\n",
      "- Matriz L\n",
      "[[ 1.          0.          0.          0.        ]\n",
      " [-1.84919103  1.          0.          0.        ]\n",
      " [-0.45964332 -0.25012194  1.          0.        ]\n",
      " [ 2.76866152 -0.30794361 -5.35228302  1.        ]]\n",
      "- Matriz U\n",
      "[[ 2.17560000e+00  4.02310000e+00 -2.17320000e+00  5.19670000e+00]\n",
      " [ 0.00000000e+00  1.34394804e+01 -4.01866194e+00  1.08069910e+01]\n",
      " [ 0.00000000e+00  4.44089210e-16 -8.92952394e-01  6.20279403e+00]\n",
      " [ 0.00000000e+00  0.00000000e+00  0.00000000e+00  1.79830497e+01]]\n"
     ]
    }
   ],
   "source": [
    "W = np.array(\n",
    "    [[2.1756, 4.0231, -2.1732, 5.1967],\n",
    "     [-4.0231, 6.0000, 0, 1.1973],\n",
    "     [-1.0000, -5.2107, 1.1111, 1.1111],\n",
    "     [6.0235, 7.0000, 0, -4.1561]]\n",
    ")\n",
    "\n",
    "L4, U4 = descomposicion_LU(W)\n",
    "\n",
    "print(\"\\nDescomposición de la matriz\")\n",
    "print(f\"- Matriz L\\n{L4}\")\n",
    "print(f\"- Matriz U\\n{U4}\")"
   ]
  },
  {
   "cell_type": "markdown",
   "metadata": {},
   "source": [
    "## Ejercicio 7"
   ]
  },
  {
   "cell_type": "markdown",
   "metadata": {},
   "source": [
    "**Modifique el algoritmo de eliminación gaussiana de tal forma que se pueda utilizar para resolver un sistema \n",
    "lineal usando la descomposición LU y, a continuación, resuelva los siguientes sistemas lineales.**"
   ]
  },
  {
   "cell_type": "markdown",
   "metadata": {},
   "source": [
    "**a.**\n",
    "$$\n",
    "\\begin{aligned}\n",
    "2x_1 - x_2 + x_3 &= -1, \\\\\n",
    "3x_1 + 3x_2 + 9x_3 &= 0, \\\\\n",
    "3x_1 + 3x_2 + 5x_3 &= 4.\n",
    "\\end{aligned}\n",
    "$$"
   ]
  },
  {
   "cell_type": "code",
   "execution_count": 47,
   "metadata": {},
   "outputs": [
    {
     "name": "stdout",
     "output_type": "stream",
     "text": [
      "[02-03 17:43:50][INFO] \n",
      "[[ 2.  -1.   1. ]\n",
      " [ 0.   4.5  7.5]\n",
      " [ 0.   4.5  3.5]]\n",
      "[02-03 17:43:50][INFO] \n",
      "[[ 2.  -1.   1. ]\n",
      " [ 0.   4.5  7.5]\n",
      " [ 0.   0.  -4. ]]\n",
      "[02-03 17:43:50][INFO] \n",
      "[[ 2.  -1.   1. ]\n",
      " [ 0.   4.5  7.5]\n",
      " [ 0.   0.  -4. ]]\n",
      "[02-03 17:43:50][INFO] Sustitución hacia adelante\n",
      "[02-03 17:43:50][INFO] y = \n",
      "[[-1. ]\n",
      " [ 1.5]\n",
      " [ 4. ]]\n",
      "[02-03 17:43:50][INFO] Sustitución hacia atrás\n",
      "[02-03 17:43:50][INFO] i = 1\n",
      "[02-03 17:43:50][INFO] suma = [-7.5]\n",
      "[02-03 17:43:50][INFO] U[i, i] = 4.5\n",
      "[02-03 17:43:50][INFO] y[i] = [1.5]\n",
      "[02-03 17:43:50][INFO] i = 0\n",
      "[02-03 17:43:50][INFO] suma = [-3.]\n",
      "[02-03 17:43:50][INFO] U[i, i] = 2.0\n",
      "[02-03 17:43:50][INFO] y[i] = [-1.]\n",
      "\n",
      "La solución del sistema es:\n",
      "[[ 1.]\n",
      " [ 2.]\n",
      " [-1.]]\n"
     ]
    }
   ],
   "source": [
    "A1 = np.array(\n",
    "    [[2, -1, 1], \n",
    "     [3, 3, 9], \n",
    "     [3, 3, 5]]\n",
    ")\n",
    "\n",
    "b1 = np.array([-1, 0, 4])\n",
    "\n",
    "L1, U1 = descomposicion_LU(A1)\n",
    "\n",
    "X1 = resolver_LU(L1, U1, b1)\n",
    "\n",
    "print(f\"\\nLa solución del sistema es:\\n{X1}\")"
   ]
  },
  {
   "cell_type": "markdown",
   "metadata": {},
   "source": [
    "**b.**\n",
    "$$\n",
    "\\begin{aligned}\n",
    "1.012x_1 - 2.132x_2 + 3.104x_3 &= 1.984, \\\\\n",
    "-2.132x_1 + 4.096x_2 - 7.013x_3 &= -5.049, \\\\\n",
    "3.104x_1 - 7.013x_2 + 0.014x_3 &= -3.895.\n",
    "\\end{aligned}\n",
    "$$"
   ]
  },
  {
   "cell_type": "code",
   "execution_count": 48,
   "metadata": {},
   "outputs": [
    {
     "name": "stdout",
     "output_type": "stream",
     "text": [
      "[02-03 17:43:50][INFO] \n",
      "[[ 1.012      -2.132       3.104     ]\n",
      " [ 0.         -0.39552569 -0.47374308]\n",
      " [ 0.         -0.47374308 -9.50656917]]\n",
      "[02-03 17:43:50][INFO] \n",
      "[[ 1.012      -2.132       3.104     ]\n",
      " [ 0.         -0.39552569 -0.47374308]\n",
      " [ 0.          0.         -8.93914077]]\n",
      "[02-03 17:43:50][INFO] \n",
      "[[ 1.012      -2.132       3.104     ]\n",
      " [ 0.         -0.39552569 -0.47374308]\n",
      " [ 0.          0.         -8.93914077]]\n",
      "[02-03 17:43:50][INFO] Sustitución hacia adelante\n",
      "[02-03 17:43:50][INFO] y = \n",
      "[[ 1.984     ]\n",
      " [-0.86926877]\n",
      " [-8.93914077]]\n",
      "[02-03 17:43:50][INFO] Sustitución hacia atrás\n",
      "[02-03 17:43:50][INFO] i = 1\n",
      "[02-03 17:43:50][INFO] suma = [-0.47374308]\n",
      "[02-03 17:43:50][INFO] U[i, i] = -0.3955256916996053\n",
      "[02-03 17:43:50][INFO] y[i] = [-0.86926877]\n",
      "[02-03 17:43:50][INFO] i = 0\n",
      "[02-03 17:43:50][INFO] suma = [0.972]\n",
      "[02-03 17:43:50][INFO] U[i, i] = 1.012\n",
      "[02-03 17:43:50][INFO] y[i] = [1.984]\n",
      "\n",
      "La solución del sistema es:\n",
      "[[1.]\n",
      " [1.]\n",
      " [1.]]\n"
     ]
    }
   ],
   "source": [
    "A2 = np.array(\n",
    "    [[1.012, -2.132, 3.104], \n",
    "    [-2.132, 4.096, -7.013],\n",
    "    [3.104, -7.013, 0.014]]\n",
    ")\n",
    "\n",
    "b2 = np.array([1.984, -5.049, -3.895])\n",
    "\n",
    "L2, U2 = descomposicion_LU(A2)\n",
    "\n",
    "X2 = resolver_LU(L2, U2, b2)\n",
    "\n",
    "print(f\"\\nLa solución del sistema es:\\n{X2}\")"
   ]
  },
  {
   "cell_type": "markdown",
   "metadata": {},
   "source": [
    "**c.**\n",
    "$$\n",
    "\\begin{aligned}\n",
    "2x_1 &= 3, \\\\\n",
    "x_1 + 1.5x_2 &= 4.5, \\\\\n",
    "-3x_2 + 0.5x_3 &= -6.6, \\\\\n",
    "2x_1 - 2x_2 + x_3 + x_4 &= 0.8.\n",
    "\\end{aligned}\n",
    "$$"
   ]
  },
  {
   "cell_type": "code",
   "execution_count": 49,
   "metadata": {},
   "outputs": [
    {
     "name": "stdout",
     "output_type": "stream",
     "text": [
      "[02-03 17:43:50][INFO] \n",
      "[[ 2.   0.   0.   0. ]\n",
      " [ 0.   1.5  0.   0. ]\n",
      " [ 0.  -3.   0.5  0. ]\n",
      " [ 0.  -2.   1.   1. ]]\n",
      "[02-03 17:43:50][INFO] \n",
      "[[2.  0.  0.  0. ]\n",
      " [0.  1.5 0.  0. ]\n",
      " [0.  0.  0.5 0. ]\n",
      " [0.  0.  1.  1. ]]\n",
      "[02-03 17:43:50][INFO] \n",
      "[[2.  0.  0.  0. ]\n",
      " [0.  1.5 0.  0. ]\n",
      " [0.  0.  0.5 0. ]\n",
      " [0.  0.  0.  1. ]]\n",
      "[02-03 17:43:50][INFO] \n",
      "[[2.  0.  0.  0. ]\n",
      " [0.  1.5 0.  0. ]\n",
      " [0.  0.  0.5 0. ]\n",
      " [0.  0.  0.  1. ]]\n",
      "[02-03 17:43:50][INFO] Sustitución hacia adelante\n",
      "[02-03 17:43:50][INFO] y = \n",
      "[[ 3. ]\n",
      " [ 3. ]\n",
      " [-0.6]\n",
      " [ 3. ]]\n",
      "[02-03 17:43:50][INFO] Sustitución hacia atrás\n",
      "[02-03 17:43:50][INFO] i = 2\n",
      "[02-03 17:43:50][INFO] suma = [0.]\n",
      "[02-03 17:43:50][INFO] U[i, i] = 0.5\n",
      "[02-03 17:43:50][INFO] y[i] = [-0.6]\n",
      "[02-03 17:43:50][INFO] i = 1\n",
      "[02-03 17:43:50][INFO] suma = [0.]\n",
      "[02-03 17:43:50][INFO] U[i, i] = 1.5\n",
      "[02-03 17:43:50][INFO] y[i] = [3.]\n",
      "[02-03 17:43:50][INFO] i = 0\n",
      "[02-03 17:43:50][INFO] suma = [0.]\n",
      "[02-03 17:43:50][INFO] U[i, i] = 2.0\n",
      "[02-03 17:43:50][INFO] y[i] = [3.]\n",
      "\n",
      "La solución del sistema c es:\n",
      "[[ 1.5]\n",
      " [ 2. ]\n",
      " [-1.2]\n",
      " [ 3. ]]\n"
     ]
    }
   ],
   "source": [
    "A3 = np.array(\n",
    "    [[2, 0, 0, 0], \n",
    "     [1, 1.5, 0, 0], \n",
    "     [0, -3, 0.5, 0], \n",
    "     [2, -2, 1, 1]]\n",
    ")\n",
    "\n",
    "b3 = np.array([3, 4.5, -6.6, 0.8])\n",
    "\n",
    "L3, U3 = descomposicion_LU(A3)\n",
    "\n",
    "X3 = resolver_LU(L3, U3, b3)\n",
    "\n",
    "print(f\"\\nLa solución del sistema c es:\\n{X3}\")"
   ]
  },
  {
   "cell_type": "markdown",
   "metadata": {},
   "source": [
    "**d.**\n",
    "$$\n",
    "\\begin{aligned}\n",
    "2.1756x_1 + 4.0231x_2 - 2.1732x_3 + 5.1967x_4 &= 17.102, \\\\\n",
    "-4.0231x_1 + 6.0000x_2 + 1.1973x_4 &= -6.1593, \\\\\n",
    "-1.0000x_1 - 5.2107x_2 + 1.1111x_3 &= 3.0004, \\\\\n",
    "6.0235x_1 + 7.0000x_2 - 4.1561x_4 &= 0.0000.\n",
    "\\end{aligned}\n",
    "$$"
   ]
  },
  {
   "cell_type": "code",
   "execution_count": 50,
   "metadata": {},
   "outputs": [
    {
     "name": "stdout",
     "output_type": "stream",
     "text": [
      "[02-03 17:43:50][INFO] \n",
      "[[  2.1756       4.0231      -2.1732       5.1967    ]\n",
      " [  0.          13.43948042  -4.01866194  10.80699101]\n",
      " [  0.          -3.36150897   0.11220314   2.38862842]\n",
      " [  0.          -4.13860216   6.01685521 -18.54400331]]\n",
      "[02-03 17:43:50][INFO] \n",
      "[[ 2.17560000e+00  4.02310000e+00 -2.17320000e+00  5.19670000e+00]\n",
      " [ 0.00000000e+00  1.34394804e+01 -4.01866194e+00  1.08069910e+01]\n",
      " [ 0.00000000e+00  4.44089210e-16 -8.92952394e-01  5.09169403e+00]\n",
      " [ 0.00000000e+00  0.00000000e+00  4.77933394e+00 -1.52160595e+01]]\n",
      "[02-03 17:43:50][INFO] \n",
      "[[ 2.17560000e+00  4.02310000e+00 -2.17320000e+00  5.19670000e+00]\n",
      " [ 0.00000000e+00  1.34394804e+01 -4.01866194e+00  1.08069910e+01]\n",
      " [ 0.00000000e+00  4.44089210e-16 -8.92952394e-01  5.09169403e+00]\n",
      " [ 0.00000000e+00  0.00000000e+00  0.00000000e+00  1.20361280e+01]]\n",
      "[02-03 17:43:50][INFO] \n",
      "[[ 2.17560000e+00  4.02310000e+00 -2.17320000e+00  5.19670000e+00]\n",
      " [ 0.00000000e+00  1.34394804e+01 -4.01866194e+00  1.08069910e+01]\n",
      " [ 0.00000000e+00  4.44089210e-16 -8.92952394e-01  5.09169403e+00]\n",
      " [ 0.00000000e+00  0.00000000e+00  0.00000000e+00  1.20361280e+01]]\n",
      "[02-03 17:43:50][INFO] Sustitución hacia adelante\n",
      "[02-03 17:43:50][INFO] y = \n",
      "[[17.102     ]\n",
      " [25.46556496]\n",
      " [17.23071662]\n",
      " [52.71598078]]\n",
      "[02-03 17:43:50][INFO] Sustitución hacia atrás\n",
      "[02-03 17:43:50][INFO] i = 2\n",
      "[02-03 17:43:50][INFO] suma = [22.30066378]\n",
      "[02-03 17:43:50][INFO] U[i, i] = -0.8929523938192969\n",
      "[02-03 17:43:50][INFO] y[i] = [17.23071662]\n",
      "[02-03 17:43:50][INFO] i = 1\n",
      "[02-03 17:43:50][INFO] suma = [24.51569341]\n",
      "[02-03 17:43:50][INFO] U[i, i] = 13.439480423791139\n",
      "[02-03 17:43:50][INFO] y[i] = [25.46556496]\n",
      "[02-03 17:43:50][INFO] i = 0\n",
      "[02-03 17:43:50][INFO] suma = [10.70605972]\n",
      "[02-03 17:43:50][INFO] U[i, i] = 2.1756\n",
      "[02-03 17:43:50][INFO] y[i] = [17.102]\n",
      "\n",
      "La solución del sistema es:\n",
      "[[2.9398512 ]\n",
      " [0.0706777 ]\n",
      " [5.67773512]\n",
      " [4.37981223]]\n"
     ]
    }
   ],
   "source": [
    "A4 = np.array(\n",
    "    [\n",
    "        [2.1756, 4.0231, -2.1732, 5.1967],\n",
    "        [-4.0231, 6.0000, 0, 1.1973],\n",
    "        [-1.0000, -5.2107, 1.1111, 0],\n",
    "        [6.0235, 7.0000, 0, -4.1561],\n",
    "    ]\n",
    ")\n",
    "\n",
    "b4 = np.array([17.102, -6.1593, 3.0004, 0.0000])\n",
    "\n",
    "L4, U4 = descomposicion_LU(A4)\n",
    "\n",
    "X4 = resolver_LU(L4, U4, b4)\n",
    "\n",
    "print(f\"\\nLa solución del sistema es:\\n{X4}\")"
   ]
  },
  {
   "cell_type": "markdown",
   "metadata": {},
   "source": [
    "**GitHub:** [Tarea10 - @mateobtw18](https://github.com/mateobtw18/Tarea_10)"
   ]
  }
 ],
 "metadata": {
  "kernelspec": {
   "display_name": "Python 3",
   "language": "python",
   "name": "python3"
  },
  "language_info": {
   "codemirror_mode": {
    "name": "ipython",
    "version": 3
   },
   "file_extension": ".py",
   "mimetype": "text/x-python",
   "name": "python",
   "nbconvert_exporter": "python",
   "pygments_lexer": "ipython3",
   "version": "3.12.7"
  }
 },
 "nbformat": 4,
 "nbformat_minor": 2
}
