{
 "cells": [
  {
   "cell_type": "markdown",
   "metadata": {},
   "source": [
    "# Taller 04\n",
    "## Ajuste de curvas por mínimos cuadrados\n"
   ]
  },
  {
   "cell_type": "code",
   "execution_count": 3,
   "metadata": {},
   "outputs": [],
   "source": [
    "p1 = (5.4, 3.2)\n",
    "p2_i = (9.5, 0.7)\n",
    "p3 = (12.3, -3.6)"
   ]
  },
  {
   "cell_type": "code",
   "execution_count": 4,
   "metadata": {},
   "outputs": [
    {
     "data": {
      "application/vnd.jupyter.widget-view+json": {
       "model_id": "e8de115f1b2f4d47b943ff8592b174dd",
       "version_major": 2,
       "version_minor": 0
      },
      "text/plain": [
       "interactive(children=(FloatSlider(value=8.9, description='p2_x', max=12.3, min=5.5), FloatSlider(value=0.0, de…"
      ]
     },
     "metadata": {},
     "output_type": "display_data"
    }
   ],
   "source": [
    "from ipywidgets import interact\n",
    "import matplotlib.pyplot as plt\n",
    "\n",
    "m = -1\n",
    "b = 8\n",
    "\n",
    "\n",
    "def update_plot(p2_x, p2_y):\n",
    "    x_coords = [p1[0], p2_x, p3[0]]\n",
    "    y_coords = [p1[1], p2_y, p3[1]]\n",
    "\n",
    "    plt.figure(figsize=(10, 6))\n",
    "    plt.scatter(x_coords, y_coords, color=\"red\")\n",
    "\n",
    "    x_line = [min(x_coords), max(x_coords)]\n",
    "    y_line = [m * x + b for x in x_line]\n",
    "    plt.plot(x_line, y_line, color=\"blue\")\n",
    "\n",
    "    plt.xlabel(\"X\")\n",
    "    plt.ylabel(\"Y\")\n",
    "    plt.title(\"Points and Line Plot\")\n",
    "    plt.show()\n",
    "\n",
    "\n",
    "_ = interact(update_plot, p2_x=(5.5, 12.3, 0.1), p2_y=(-10.0, 10.0, 0.1))"
   ]
  }
 ],
 "metadata": {
  "kernelspec": {
   "display_name": "Python 3",
   "language": "python",
   "name": "python3"
  },
  "language_info": {
   "codemirror_mode": {
    "name": "ipython",
    "version": 3
   },
   "file_extension": ".py",
   "mimetype": "text/x-python",
   "name": "python",
   "nbconvert_exporter": "python",
   "pygments_lexer": "ipython3",
   "version": "3.10.8"
  }
 },
 "nbformat": 4,
 "nbformat_minor": 2
}
