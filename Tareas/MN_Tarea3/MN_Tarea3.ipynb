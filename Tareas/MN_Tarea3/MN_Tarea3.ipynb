{
 "cells": [
  {
   "cell_type": "raw",
   "id": "aeb7c749-0b8e-4aa0-8eb3-101e42a0981f",
   "metadata": {},
   "source": [
    "---\n",
    "title: \"Algoritmos y Convergencia\"\n",
    "author: \"Mateo Cumbal\"\n",
    "date: \"Octubre 30, 2024\"\n",
    "lang: es\n",
    "format:\n",
    "  pdf:\n",
    "        number-sections: true\n",
    "        paginate: true\n",
    "        toc: true\n",
    "        links-color: blue\n",
    "        toc-title: \"Tabla de Contenidos\"  \n",
    "        tables: true\n",
    "        table-width: full\n",
    "        images-centered: true\n",
    "        code-block-theme: \"monokai\"\n",
    "execute:\n",
    "  echo: true\n",
    "  error: false\n",
    "  warning: false\n",
    "code-fold: true\n",
    "jupyter: python3\n",
    "---"
   ]
  },
  {
   "cell_type": "markdown",
   "id": "6109ac89-3292-4207-9166-5a12cffdd3e2",
   "metadata": {},
   "source": [
    "# EJERCICIOS"
   ]
  },
  {
   "cell_type": "markdown",
   "id": "17af23df-4b7f-4e7c-a964-ab6bf2a5afbe",
   "metadata": {},
   "source": [
    "## Ejercicio 2"
   ]
  },
  {
   "cell_type": "markdown",
   "id": "07e9e5f0-4a4a-46d4-85ae-840d0f455e7c",
   "metadata": {},
   "source": [
    "**La serie de Macalurin para la función arcotangente converge para $-1< x \\le 1$ y está dada por**\n",
    "\n",
    "$\\arctan x = \\lim_{n \\to \\infty} P_n(x) = \\lim_{n \\to \\infty} \\sum_{i=1}^{n} (-1)^{i+1} \\frac{x^{2i-1}}{2i-1}$"
   ]
  },
  {
   "cell_type": "markdown",
   "id": "2c41326c-9e63-4b06-b36c-28ea126745c4",
   "metadata": {},
   "source": [
    "**a) Utilice el hecho de que $\\tan \\frac{\\pi}{4}=1$ para determinar el número n de términos de la serie que se necesita sumar para garantizar que $\\left|4P_n(1)-\\pi \\right|<10^{-3}$**"
   ]
  },
  {
   "cell_type": "code",
   "execution_count": 52,
   "id": "fa32ff05-80b7-4037-95c3-b3b8ef5a3a1e",
   "metadata": {},
   "outputs": [
    {
     "name": "stdout",
     "output_type": "stream",
     "text": [
      "Valor aproximado de π: 3.140592653839794\n",
      "Mínimo de términos necesarios: 1000\n"
     ]
    }
   ],
   "source": [
    "import math\n",
    "\n",
    "def n_terminos_para_pi(precision):\n",
    "    n = 0\n",
    "    suma = 0.0\n",
    "    error = float('inf')\n",
    "    pi_real = math.pi\n",
    "    while error >= precision:\n",
    "        n += 1\n",
    "        termino = (-1)**(n+1) / (2*n - 1)\n",
    "        suma += termino\n",
    "        pi_aprox = 4 * suma\n",
    "        error = abs(pi_real - pi_aprox)\n",
    "    return pi_aprox, n\n",
    "\n",
    "pi_aprox, n_terminos = n_terminos_para_pi(10**-3)\n",
    "print(f\"Valor aproximado de π: {pi_aprox}\")\n",
    "print(f\"Mínimo de términos necesarios: {n_terminos}\")"
   ]
  },
  {
   "cell_type": "markdown",
   "id": "281c25f1-87d9-457f-b4fa-2b261f937ccb",
   "metadata": {},
   "source": [
    "**b) El lenguaje de programación c++ requiere que el valor $\\pi$ se encuentre dentro de $10^{-10}$.  ¿Cuántos términos de la serie se necesitarían sumar para obtener este grado de presición?**"
   ]
  },
  {
   "cell_type": "code",
   "execution_count": null,
   "id": "6e407087-58be-4485-8a1a-90659c772256",
   "metadata": {},
   "outputs": [],
   "source": [
    "pi_aprox, n_terminos = n_terminos_para_pi(10**-10)\n",
    "print(f\"Valor aproximado de π: {pi_aprox}\")\n",
    "print(f\"Mínimo de términos necesarios: {n_terminos}\")"
   ]
  },
  {
   "cell_type": "markdown",
   "id": "29920322-8010-4ccb-8e84-d23ac44cbba0",
   "metadata": {},
   "source": [
    "> **Se murió el código.** En esta serie, para alcanzar una precisión de $10^{-10}$, es probable que necesitemos sumar varios miles de millones de términos, debido a la naturaleza lenta de convergencia de esta serie."
   ]
  },
  {
   "cell_type": "markdown",
   "id": "4d81a554-5f0a-456f-8585-31e35a72fb6c",
   "metadata": {},
   "source": [
    "## Ejercicio 3"
   ]
  },
  {
   "cell_type": "markdown",
   "id": "327906d4-d267-4e1a-974d-7785b5031d81",
   "metadata": {},
   "source": [
    "**Otra fórmula para calcular $\\pi$ se puede deducir a partir de la identidad $\\pi/4=4\\arctan\\frac{1}{5}-arctan\\frac{1}{239}$.Determine el número de términos que se deben sumar para garantizar una aproximación dentro de $10^{-3}$.**"
   ]
  },
  {
   "cell_type": "markdown",
   "id": "352f30fa-2c23-43c1-a549-8e78b43a79e3",
   "metadata": {},
   "source": [
    "Despejando $\\pi$ de la ecuación resulta en:\n",
    "\n",
    "$\\pi=4*(4*\\arctan\\frac{1}{5}-\\arctan\\frac{1}{239})$"
   ]
  },
  {
   "cell_type": "code",
   "execution_count": 69,
   "id": "e5833248-a0ae-47dd-8810-f5a081210dfa",
   "metadata": {},
   "outputs": [
    {
     "name": "stdout",
     "output_type": "stream",
     "text": [
      "Valor aproximado de π: 3.1405969316596933\n",
      "Número total de términos sumados: 5\n"
     ]
    }
   ],
   "source": [
    "def calcular_pi_machin(precision=1e-3):\n",
    "    def arctan_leibniz(x, precision):\n",
    "        suma = 0.0\n",
    "        n = 1\n",
    "        termino = x\n",
    "        while abs(termino) >= precision:\n",
    "            suma += termino\n",
    "            n += 1\n",
    "            termino = (-1) ** (n + 1) * (x ** (2 * n - 1)) / (2 * n - 1)\n",
    "        return suma, n\n",
    "\n",
    "    arctan1, terms1 = arctan_leibniz(1/5, precision)\n",
    "    arctan2, terms2 = arctan_leibniz(1/239, precision)\n",
    "\n",
    "    pi_aproximado = 4 * (4 * arctan1 - arctan2)\n",
    "    total_terms = terms1 + terms2\n",
    "\n",
    "    return pi_aproximado, total_terms\n",
    "\n",
    "# Ejemplo de uso\n",
    "pi_aproximado, total_terms = calcular_pi_machin(precision=1e-3)\n",
    "print(f\"Valor aproximado de π: {pi_aproximado}\")\n",
    "print(f\"Número total de términos sumados: {total_terms}\")\n"
   ]
  },
  {
   "cell_type": "markdown",
   "id": "89ce56f5-971a-4725-98c4-2055afad6159",
   "metadata": {},
   "source": [
    "## Ejercicio 5"
   ]
  },
  {
   "cell_type": "markdown",
   "id": "378ef5be-9225-4d0e-bbd4-3637bf92f2d3",
   "metadata": {},
   "source": [
    "**Cuántas multiplicaciones y sumas se requieren para determinar una suma de la forma $\\sum_{i=1}^{n}\\sum_{j=1}^{i}a_ib_j$**"
   ]
  },
  {
   "cell_type": "code",
   "execution_count": 97,
   "id": "e038fcc1-8542-45ba-b783-8b339ac7f817",
   "metadata": {},
   "outputs": [
    {
     "name": "stdin",
     "output_type": "stream",
     "text": [
      "Ingrese el valor de n:  10\n"
     ]
    },
    {
     "name": "stdout",
     "output_type": "stream",
     "text": [
      "Para n = 10:\n",
      "Número de multiplicaciones requeridas: 55\n",
      "Número de sumas requeridas: 54\n"
     ]
    }
   ],
   "source": [
    "def calcular_operaciones(n):\n",
    "    multiplicaciones = n * (n + 1) // 2\n",
    "    sumas = multiplicaciones - 1\n",
    "    return multiplicaciones, sumas\n",
    "\n",
    "n = int(input(\"Ingrese el valor de n: \"))\n",
    "multiplicaciones, sumas = calcular_operaciones(n)\n",
    "print(f\"Para n = {n}:\")\n",
    "print(f\"Número de multiplicaciones requeridas: {multiplicaciones}\")\n",
    "print(f\"Número de sumas requeridas: {sumas}\")"
   ]
  },
  {
   "cell_type": "markdown",
   "id": "dd212a7e-ccad-4f49-b68a-5cab5d477681",
   "metadata": {},
   "source": [
    "Para cada $i$ de 1 a $n$, el índice $j$ recorre desde 1 hasta $i$. Por lo que para cada valor de $i$, hay $i$ multiplicaciones. Lo que resulta que el número total de multiplicaciones es la sumatoria de Gauss.\n",
    "\n"
   ]
  },
  {
   "cell_type": "markdown",
   "id": "ae461eb5-2529-4386-9024-7c5f75165a8d",
   "metadata": {},
   "source": [
    "$\\sum_{i=1}^{n} i = \\frac{n(n + 1)}{2}$"
   ]
  },
  {
   "cell_type": "markdown",
   "id": "0df29f37-381a-4b93-a6b5-81dea17618b3",
   "metadata": {},
   "source": [
    "Después de cada multiplicación, el resultado es sumado al acumulador. Por lo que se tiene solo una suma menos que el número de multiplicaciones porque la primera multiplicación no necesita ser sumada."
   ]
  },
  {
   "cell_type": "markdown",
   "id": "2a45cb45-dee5-41c0-b601-5d792e38c74a",
   "metadata": {},
   "source": [
    "$\\frac{n(n + 1)}{2} - 1$"
   ]
  },
  {
   "cell_type": "markdown",
   "id": "5b240e58-8846-4cb3-9ee8-64d49ee97f64",
   "metadata": {},
   "source": [
    "**GitHub:** [Métodos Númericos - @mateobtw18](https://github.com/mateobtw18/Metodos_Numericos)"
   ]
  }
 ],
 "metadata": {
  "kernelspec": {
   "display_name": "Python 3 (ipykernel)",
   "language": "python",
   "name": "python3"
  },
  "language_info": {
   "codemirror_mode": {
    "name": "ipython",
    "version": 3
   },
   "file_extension": ".py",
   "mimetype": "text/x-python",
   "name": "python",
   "nbconvert_exporter": "python",
   "pygments_lexer": "ipython3",
   "version": "3.12.4"
  }
 },
 "nbformat": 4,
 "nbformat_minor": 5
}
