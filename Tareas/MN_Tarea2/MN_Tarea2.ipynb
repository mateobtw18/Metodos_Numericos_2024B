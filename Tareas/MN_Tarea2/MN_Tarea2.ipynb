{
 "cells": [
  {
   "cell_type": "raw",
   "id": "22137982-fa42-40c6-a312-8d51c7f3bc78",
   "metadata": {},
   "source": [
    "---\n",
    "title: \"Errores Numéricos\"\n",
    "author: \"Mateo Cumbal\"\n",
    "date: \"Octubre 28, 2024\"\n",
    "lang: es\n",
    "format:\n",
    "    pdf:\n",
    "        number-sections: true\n",
    "        paginate: true\n",
    "        toc: true\n",
    "        links-color: blue\n",
    "        toc-title: \"Tabla de Contenidos\"  \n",
    "        tables: true\n",
    "        table-width: full\n",
    "        images-centered: true\n",
    "        code-block-theme: \"monokai\"\n",
    "execute:\n",
    "    echo: true\n",
    "    error: false\n",
    "    warning: false\n",
    "code-fold: true\n",
    "jupyter: python3\n",
    "link-citations: true\n",
    "---"
   ]
  },
  {
   "cell_type": "markdown",
   "id": "ae0ce180-ed9f-456c-9d25-00854aa44554",
   "metadata": {},
   "source": [
    "# Ejercicio 1"
   ]
  },
  {
   "cell_type": "markdown",
   "id": "6a384a93-02f0-454f-b558-871e6ddb5b7a",
   "metadata": {},
   "source": [
    "**Calcule los errores absoluto y relativo en las aproximaciones de p por p∗.**"
   ]
  },
  {
   "cell_type": "markdown",
   "id": "bd0ebddf-af56-4b54-a3db-7c3b495e5a25",
   "metadata": {},
   "source": [
    "**a) $p =\\pi,  p^*=\\frac{22}{7}$**"
   ]
  },
  {
   "cell_type": "code",
   "execution_count": 41,
   "id": "9d0e3720-68e4-443b-a883-1c6926441164",
   "metadata": {},
   "outputs": [
    {
     "name": "stdout",
     "output_type": "stream",
     "text": [
      "e abs = |3.141592653589793 - 3.142857142857143|\n",
      "e abs = 0.0012644892673496777\n",
      "\n"
     ]
    }
   ],
   "source": [
    "a1 = error_absoluto(math.pi, 22/7)"
   ]
  },
  {
   "cell_type": "code",
   "execution_count": 42,
   "id": "15a42dc4-7ebe-4d63-a097-fec56684751e",
   "metadata": {},
   "outputs": [
    {
     "name": "stdout",
     "output_type": "stream",
     "text": [
      "e rel = 0.0012644892673496777 / |3.141592653589793|\n",
      "e rel = 0.0004024994347707008\n",
      "e rel = 0.04024994347707008 %\n"
     ]
    }
   ],
   "source": [
    "error_relativo(a1, math.pi)"
   ]
  },
  {
   "cell_type": "markdown",
   "id": "e73d2856-9bd4-4a90-9b19-1e608b687a6f",
   "metadata": {},
   "source": [
    "**b) $p =\\pi,  p^*=3.1416$** "
   ]
  },
  {
   "cell_type": "code",
   "execution_count": 44,
   "id": "358eac5e-f710-4681-9e2d-525ba54789e0",
   "metadata": {},
   "outputs": [
    {
     "name": "stdout",
     "output_type": "stream",
     "text": [
      "e abs = |3.141592653589793 - 3.1416|\n",
      "e abs = 0.0000073464102068321\n",
      "\n"
     ]
    }
   ],
   "source": [
    "b1 = error_absoluto(math.pi, 3.1416)"
   ]
  },
  {
   "cell_type": "code",
   "execution_count": 45,
   "id": "e32ff2a3-7e88-4965-bcff-3e9296d4951f",
   "metadata": {},
   "outputs": [
    {
     "name": "stdout",
     "output_type": "stream",
     "text": [
      "e rel = 7.346410206832132e-06 / |3.141592653589793|\n",
      "e rel = 0.0000023384349967962\n",
      "e rel = 0.00023384349967961744 %\n"
     ]
    }
   ],
   "source": [
    "error_relativo(b1, math.pi)"
   ]
  },
  {
   "cell_type": "markdown",
   "id": "c346932f-614d-47f7-8ef4-15e9d5b2a739",
   "metadata": {},
   "source": [
    "**c) $p =e,  p^*=2.718$**"
   ]
  },
  {
   "cell_type": "code",
   "execution_count": 47,
   "id": "f597eb59-b2d9-4232-a864-7414cfb1468c",
   "metadata": {},
   "outputs": [
    {
     "name": "stdout",
     "output_type": "stream",
     "text": [
      "e abs = |2.718281828459045 - 2.718|\n",
      "e abs = 0.0002818284590451192\n",
      "\n"
     ]
    }
   ],
   "source": [
    "c1 = error_absoluto(math.e, 2.718)"
   ]
  },
  {
   "cell_type": "code",
   "execution_count": 48,
   "id": "6ede17a1-e5e3-456b-bac9-7e9680ceed51",
   "metadata": {},
   "outputs": [
    {
     "name": "stdout",
     "output_type": "stream",
     "text": [
      "e rel = 0.0002818284590451192 / |2.718281828459045|\n",
      "e rel = 0.0001036788960197272\n",
      "e rel = 0.010367889601972718 %\n"
     ]
    }
   ],
   "source": [
    "error_relativo(c1, math.e)"
   ]
  },
  {
   "cell_type": "markdown",
   "id": "a6c11aa6-bc41-4f2c-8143-a871c0dae920",
   "metadata": {},
   "source": [
    "**d) $p =\\sqrt{2},  p^*=1.414$**"
   ]
  },
  {
   "cell_type": "code",
   "execution_count": 50,
   "id": "1d61cd13-9751-4c56-94ef-a107607fe57a",
   "metadata": {},
   "outputs": [
    {
     "name": "stdout",
     "output_type": "stream",
     "text": [
      "e abs = |1.4142135623730951 - 1.414|\n",
      "e abs = 0.0002135623730952219\n",
      "\n"
     ]
    }
   ],
   "source": [
    "d1 = error_absoluto(math.sqrt(2),1.414)"
   ]
  },
  {
   "cell_type": "code",
   "execution_count": 51,
   "id": "9c027dc1-76c7-465f-b84e-e595b124aafc",
   "metadata": {},
   "outputs": [
    {
     "name": "stdout",
     "output_type": "stream",
     "text": [
      "e rel = 0.00021356237309522186 / |1.4142135623730951|\n",
      "e rel = 0.0001510114022219229\n",
      "e rel = 0.015101140222192286 %\n"
     ]
    }
   ],
   "source": [
    "error_relativo(d1,math.sqrt(2))"
   ]
  },
  {
   "cell_type": "markdown",
   "id": "da0c566d-c343-46c2-a99d-5fd94d44f0f3",
   "metadata": {},
   "source": [
    "# Ejercicio 2"
   ]
  },
  {
   "cell_type": "markdown",
   "id": "25e62ebe-54df-4ce9-afe2-1d0860a67310",
   "metadata": {},
   "source": [
    "**Calcule los errores absoluto y relativo en las aproximaciones de p por p∗.**"
   ]
  },
  {
   "cell_type": "markdown",
   "id": "c9a9308a-3110-41f4-8bf0-4d5761a63e04",
   "metadata": {},
   "source": [
    "**a) $p =e^{10},  p^*=22000$** "
   ]
  },
  {
   "cell_type": "code",
   "execution_count": 55,
   "id": "2fa41462-7ab6-430a-b51c-8b0dd672e509",
   "metadata": {},
   "outputs": [
    {
     "name": "stdout",
     "output_type": "stream",
     "text": [
      "e abs = |22026.465794806703 - 22000|\n",
      "e abs = 26.4657948067033430561\n",
      "\n"
     ]
    }
   ],
   "source": [
    "a2 = error_absoluto(math.pow(math.e, 10), 22000)"
   ]
  },
  {
   "cell_type": "code",
   "execution_count": 56,
   "id": "bfeeab2d-ae02-4860-a451-e4c3a5ef9328",
   "metadata": {},
   "outputs": [
    {
     "name": "stdout",
     "output_type": "stream",
     "text": [
      "e rel = 26.465794806703343 / |22026.465794806703|\n",
      "e rel = 0.0012015452253326688\n",
      "e rel = 0.12015452253326687 %\n"
     ]
    }
   ],
   "source": [
    "error_relativo(a2, math.pow(math.e, 10))"
   ]
  },
  {
   "cell_type": "markdown",
   "id": "6f9664ae-bd38-4ad2-8eff-00086d7e29db",
   "metadata": {},
   "source": [
    "**b) $p =10^{\\pi},  p^*=1400$** "
   ]
  },
  {
   "cell_type": "code",
   "execution_count": 58,
   "id": "3ec05ccf-daf7-4e74-9bc9-0dd9e302d761",
   "metadata": {},
   "outputs": [
    {
     "name": "stdout",
     "output_type": "stream",
     "text": [
      "e abs = |1385.4557313670107 - 1400|\n",
      "e abs = 14.5442686329893149377\n",
      "\n"
     ]
    }
   ],
   "source": [
    "b2 = error_absoluto(math.pow(10, math.pi), 1400)"
   ]
  },
  {
   "cell_type": "code",
   "execution_count": 59,
   "id": "78aa126c-f56f-4ddc-94a1-0e95972eb8f2",
   "metadata": {},
   "outputs": [
    {
     "name": "stdout",
     "output_type": "stream",
     "text": [
      "e rel = 14.544268632989315 / |1385.4557313670107|\n",
      "e rel = 0.0104978227046191360\n",
      "e rel = 1.0497822704619135 %\n"
     ]
    }
   ],
   "source": [
    "error_relativo(b2, math.pow(10, math.pi))"
   ]
  },
  {
   "cell_type": "markdown",
   "id": "ee3c7f02-d09e-4e9a-8f4f-8bc7077cde19",
   "metadata": {},
   "source": [
    "**c) $p =8!,  p^*=39900$** "
   ]
  },
  {
   "cell_type": "code",
   "execution_count": 61,
   "id": "166e5eb7-0206-449e-89a7-6341a460501b",
   "metadata": {},
   "outputs": [
    {
     "name": "stdout",
     "output_type": "stream",
     "text": [
      "e abs = |40320 - 39900|\n",
      "e abs = 420.0000000000000000000\n",
      "\n"
     ]
    }
   ],
   "source": [
    "c2 = error_absoluto(math.factorial(8), 39900)"
   ]
  },
  {
   "cell_type": "code",
   "execution_count": 62,
   "id": "ff6ecfc5-ab24-4f9f-9fe6-315ff479cfee",
   "metadata": {},
   "outputs": [
    {
     "name": "stdout",
     "output_type": "stream",
     "text": [
      "e rel = 0.0002818284590451192 / |40320|\n",
      "e rel = 0.0000000069897931311\n",
      "e rel = 6.989793131079346e-07 %\n"
     ]
    }
   ],
   "source": [
    "error_relativo(c1, math.factorial(8))"
   ]
  },
  {
   "cell_type": "markdown",
   "id": "4c6c6dda-b38c-445d-910b-36e416f79674",
   "metadata": {},
   "source": [
    "**d) $p =9!,  p^*=\\sqrt{18\\pi}(\\frac{9}{e})^9$** "
   ]
  },
  {
   "cell_type": "code",
   "execution_count": 64,
   "id": "28a99450-1f23-4d27-ad9c-cfe7057d1368",
   "metadata": {},
   "outputs": [
    {
     "name": "stdout",
     "output_type": "stream",
     "text": [
      "e abs = |362880 - 359536.87284194835|\n",
      "e abs = 3343.1271580516477115452\n",
      "\n"
     ]
    }
   ],
   "source": [
    "d2 = error_absoluto(math.factorial(9), math.sqrt(18*math.pi)*math.pow(9/math.e, 9))"
   ]
  },
  {
   "cell_type": "code",
   "execution_count": 65,
   "id": "4da58666-a3e8-4d47-8970-de406b981d67",
   "metadata": {},
   "outputs": [
    {
     "name": "stdout",
     "output_type": "stream",
     "text": [
      "e rel = 3343.1271580516477 / |362880|\n",
      "e rel = 0.0092127622300805980\n",
      "e rel = 0.9212762230080598 %\n"
     ]
    }
   ],
   "source": [
    "error_relativo(d2, math.factorial(9))"
   ]
  },
  {
   "cell_type": "markdown",
   "id": "a5561650-e1c2-4f7b-8587-cf46f4398a60",
   "metadata": {},
   "source": [
    "# Ejercicio 3"
   ]
  },
  {
   "cell_type": "markdown",
   "id": "3e9a1b58-d31d-4e06-83dd-c629f04a472c",
   "metadata": {},
   "source": [
    "**Encuentre el intervalo más largo en el que se debe encontrar $p$ para aproximarse a $p$∗ con error relativo máximo de  $10^{−4}$ para cada valor de $p$.**"
   ]
  },
  {
   "cell_type": "markdown",
   "id": "d79f1843-ef99-4536-ad6f-2a75b2af2ed2",
   "metadata": {},
   "source": [
    "**a) ${\\pi}$**"
   ]
  },
  {
   "cell_type": "markdown",
   "id": "7c7bdb4d-7f99-4683-8203-b7aaf43b9bf9",
   "metadata": {},
   "source": [
    "$\\pi - 10^{-4} \\cdot \\pi \\leq p^* \\leq \\pi + 10^{-4} \\cdot \\pi$"
   ]
  },
  {
   "cell_type": "code",
   "execution_count": 70,
   "id": "d12f388f-981b-4180-8a33-2de08e3d2811",
   "metadata": {},
   "outputs": [
    {
     "name": "stdout",
     "output_type": "stream",
     "text": [
      "3.141278494324434 ≤ p* ≤ 3.141906812855152\n"
     ]
    }
   ],
   "source": [
    "error_relativo_max(math.pi, 10**-4)"
   ]
  },
  {
   "cell_type": "markdown",
   "id": "0ae5f596-5b45-414b-adce-231ca6043540",
   "metadata": {},
   "source": [
    "**b) $e$**"
   ]
  },
  {
   "cell_type": "markdown",
   "id": "83db9ce6-cafc-44d9-aabe-8e72eafe7918",
   "metadata": {},
   "source": [
    "$e - 10^{-4} \\cdot e \\leq p^* \\leq e + 10^{-4} \\cdot e$"
   ]
  },
  {
   "cell_type": "code",
   "execution_count": 73,
   "id": "5c1255b0-1db1-4bd4-b438-1eff5294d11a",
   "metadata": {},
   "outputs": [
    {
     "name": "stdout",
     "output_type": "stream",
     "text": [
      "2.718010000276199 ≤ p* ≤ 2.718553656641891\n"
     ]
    }
   ],
   "source": [
    "error_relativo_max(math.e, 10**-4)"
   ]
  },
  {
   "cell_type": "markdown",
   "id": "b192b344-ea4f-4856-8f62-f1e9578cd666",
   "metadata": {},
   "source": [
    "**c) $\\sqrt{2}$**"
   ]
  },
  {
   "cell_type": "markdown",
   "id": "ea61306e-7b02-4776-83ea-96b12b858264",
   "metadata": {},
   "source": [
    "$\\sqrt{2} - 10^{-4} \\cdot \\sqrt{2} \\leq p^* \\leq \\sqrt{2} + 10^{-4} \\cdot \\sqrt{2}$"
   ]
  },
  {
   "cell_type": "code",
   "execution_count": 76,
   "id": "4683978e-f540-4c8f-af1c-59dc5d7bee53",
   "metadata": {},
   "outputs": [
    {
     "name": "stdout",
     "output_type": "stream",
     "text": [
      "1.4140721410168577 ≤ p* ≤ 1.4143549837293325\n"
     ]
    }
   ],
   "source": [
    "error_relativo_max(math.sqrt(2), 10 ** -4)"
   ]
  },
  {
   "cell_type": "markdown",
   "id": "4728a898-f4ca-4a06-9761-b272fa75ff55",
   "metadata": {},
   "source": [
    "**d) $\\sqrt[3]{7}$**"
   ]
  },
  {
   "cell_type": "markdown",
   "id": "8edda7f1-9af1-4cf7-9e2b-2de39b2312fb",
   "metadata": {},
   "source": [
    "$\\sqrt[3]{7} - 10^{-4} \\cdot \\sqrt[3]{7} \\leq p^* \\leq \\sqrt[3]{7} + 10^{-4} \\cdot \\sqrt[3]{7}$"
   ]
  },
  {
   "cell_type": "code",
   "execution_count": 79,
   "id": "a17292c4-cdfa-47d2-8295-b4be68d692af",
   "metadata": {},
   "outputs": [
    {
     "name": "stdout",
     "output_type": "stream",
     "text": [
      "1.9127398896541117 ≤ p* ≤ 1.9131224758906662\n"
     ]
    }
   ],
   "source": [
    "error_relativo_max(7 ** (1/3), 10 ** -4)"
   ]
  },
  {
   "cell_type": "markdown",
   "id": "8e1fe991-1c82-4cb8-838d-4a929ee540ef",
   "metadata": {},
   "source": [
    "# Ejercicio 4"
   ]
  },
  {
   "cell_type": "markdown",
   "id": "f82afc54-18c4-41e7-9488-8e62eb7871d3",
   "metadata": {},
   "source": [
    "**Use la aritmética de redondeo de tres dígitos para realizar lo siguiente. Calcule los errores absoluto y relativo \n",
    "con el valor exacto determinado para por lo menos cinco dígitos**."
   ]
  },
  {
   "cell_type": "markdown",
   "id": "9331ba84-37d8-4daf-9680-789f8150cbfc",
   "metadata": {},
   "source": [
    "**a) $\\frac{\\frac{13}{14}-\\frac{5}{7}}{2e-5.4}$**"
   ]
  },
  {
   "cell_type": "code",
   "execution_count": 83,
   "id": "1fe21547-522d-4505-b93c-ed1752e889fe",
   "metadata": {},
   "outputs": [
    {
     "name": "stdout",
     "output_type": "stream",
     "text": [
      "Valor Real: 5.860620417858059\n",
      "Valor Redondeado: 5.37\n"
     ]
    }
   ],
   "source": [
    "real1 = (13/14 - 5/7) / (2*math.e - 5.4)\n",
    "redondeado1 = red(red((red(13/14) - red(5/7)))/(2*red(math.e) - 5.4))\n",
    "print(f'Valor Real: {real1}')\n",
    "print(f'Valor Redondeado: {redondeado1}')"
   ]
  },
  {
   "cell_type": "code",
   "execution_count": 84,
   "id": "3680b078-d558-4bef-896a-67ccfdd6d388",
   "metadata": {},
   "outputs": [
    {
     "name": "stdout",
     "output_type": "stream",
     "text": [
      "e abs = |5.860620417858059 - 5.37|\n",
      "e abs = 0.4906204178580590991\n",
      "\n"
     ]
    }
   ],
   "source": [
    "abs1 = error_absoluto(real1, redondeado1)"
   ]
  },
  {
   "cell_type": "code",
   "execution_count": 85,
   "id": "e48c861c-0c89-4eb0-a89d-f8971646745a",
   "metadata": {},
   "outputs": [
    {
     "name": "stdout",
     "output_type": "stream",
     "text": [
      "e rel = 0.4906204178580591 / |5.860620417858059|\n",
      "e rel = 0.0837147576326690568\n",
      "e rel = 8.371475763266906 %\n"
     ]
    }
   ],
   "source": [
    "error_relativo(abs1, real1)"
   ]
  },
  {
   "cell_type": "markdown",
   "id": "6f791e63-b73e-4b1b-9915-4dbf5350e90e",
   "metadata": {},
   "source": [
    "**b) $-10\\pi+6e-\\frac{3}{61}$**"
   ]
  },
  {
   "cell_type": "code",
   "execution_count": 87,
   "id": "1b643507-974e-4f60-8b60-29da89717e70",
   "metadata": {},
   "outputs": [
    {
     "name": "stdout",
     "output_type": "stream",
     "text": [
      "Valor Real: -15.155415893012512\n",
      "Valor Redondeado: -15.13\n"
     ]
    }
   ],
   "source": [
    "real2 = -10*math.pi + 6*math.e - 3/61\n",
    "redondeado2 = red(-10*red(math.pi) + 6*red(math.e) - red(3/61))\n",
    "print(f'Valor Real: {real2}')\n",
    "print(f'Valor Redondeado: {redondeado2}')"
   ]
  },
  {
   "cell_type": "code",
   "execution_count": 88,
   "id": "62da0b09-dd1d-43cd-803f-b7446e7378a8",
   "metadata": {},
   "outputs": [
    {
     "name": "stdout",
     "output_type": "stream",
     "text": [
      "e abs = |-15.155415893012512 - -15.13|\n",
      "e abs = 0.0254158930125107929\n",
      "\n"
     ]
    }
   ],
   "source": [
    "abs2 = error_absoluto(real2, redondeado2)"
   ]
  },
  {
   "cell_type": "code",
   "execution_count": 89,
   "id": "5e0aa8e3-2ba9-4ed6-b1eb-7c4fd44ca30f",
   "metadata": {},
   "outputs": [
    {
     "name": "stdout",
     "output_type": "stream",
     "text": [
      "e rel = 0.025415893012510793 / |-15.155415893012512|\n",
      "e rel = 0.0016770171925291032\n",
      "e rel = 0.16770171925291033 %\n"
     ]
    }
   ],
   "source": [
    "error_relativo(abs2, real2)"
   ]
  },
  {
   "cell_type": "markdown",
   "id": "c17f2814-c7d7-4f48-af4f-011163e6d3d8",
   "metadata": {},
   "source": [
    "**c) $(\\frac{2}{9})(\\frac{9}{11})$**"
   ]
  },
  {
   "cell_type": "code",
   "execution_count": 91,
   "id": "0c1216a5-34dd-4bcb-abc5-0ffff6010b19",
   "metadata": {},
   "outputs": [
    {
     "name": "stdout",
     "output_type": "stream",
     "text": [
      "Valor Real: 0.18181818181818182\n",
      "Valor Redondeado: 0.182\n"
     ]
    }
   ],
   "source": [
    "real3 = (2/9) * (9/11)\n",
    "redondeado3 = red(red(2/9) * red(9/11))\n",
    "print(f'Valor Real: {real3}')\n",
    "print(f'Valor Redondeado: {redondeado3}')"
   ]
  },
  {
   "cell_type": "code",
   "execution_count": 92,
   "id": "69849580-7261-49e4-9546-1d33c9ac8fb1",
   "metadata": {},
   "outputs": [
    {
     "name": "stdout",
     "output_type": "stream",
     "text": [
      "e abs = |0.18181818181818182 - 0.182|\n",
      "e abs = 0.0001818181818181719\n",
      "\n"
     ]
    }
   ],
   "source": [
    "abs3 = error_absoluto(real3, redondeado3)"
   ]
  },
  {
   "cell_type": "code",
   "execution_count": 93,
   "id": "78a77b66-a769-408a-9b8e-afb30f56a6cc",
   "metadata": {},
   "outputs": [
    {
     "name": "stdout",
     "output_type": "stream",
     "text": [
      "e rel = 0.0001818181818181719 / |0.18181818181818182|\n",
      "e rel = 0.0009999999999999454\n",
      "e rel = 0.09999999999999454 %\n"
     ]
    }
   ],
   "source": [
    "error_relativo(abs3, real3)"
   ]
  },
  {
   "cell_type": "markdown",
   "id": "806203f7-b555-42c8-8e38-a8044271302d",
   "metadata": {},
   "source": [
    "**d) $\\frac{\\sqrt{13}+\\sqrt{11}}{\\sqrt{13}-\\sqrt{11}}$**"
   ]
  },
  {
   "cell_type": "code",
   "execution_count": 95,
   "id": "4c109e35-8dce-4fe6-95cd-ef904a63c3d7",
   "metadata": {},
   "outputs": [
    {
     "name": "stdout",
     "output_type": "stream",
     "text": [
      "Valor Real: 23.95826074310141\n",
      "Valor Redondeado: 23.9\n"
     ]
    }
   ],
   "source": [
    "real4 = (math.sqrt(13) + math.sqrt(11)) / (math.sqrt(13) - math.sqrt(11))\n",
    "redondeado4 = red(red(red(math.sqrt(13)) + red(math.sqrt(11))) / \n",
    "                  red(red(math.sqrt(13)) - red(math.sqrt(11))))\n",
    "print(f'Valor Real: {real4}')\n",
    "print(f'Valor Redondeado: {redondeado4}')"
   ]
  },
  {
   "cell_type": "code",
   "execution_count": 96,
   "id": "0f53b760-bd51-4af4-b5cc-0d0f75bdbc29",
   "metadata": {},
   "outputs": [
    {
     "name": "stdout",
     "output_type": "stream",
     "text": [
      "e abs = |23.95826074310141 - 23.9|\n",
      "e abs = 0.0582607431014103838\n",
      "\n"
     ]
    }
   ],
   "source": [
    "abs4 = error_absoluto(real4, redondeado4)"
   ]
  },
  {
   "cell_type": "code",
   "execution_count": 97,
   "id": "75ef29de-b027-4484-913e-2b1c07391506",
   "metadata": {},
   "outputs": [
    {
     "name": "stdout",
     "output_type": "stream",
     "text": [
      "e rel = 0.058260743101410384 / |23.95826074310141|\n",
      "e rel = 0.0024317601234132200\n",
      "e rel = 0.243176012341322 %\n"
     ]
    }
   ],
   "source": [
    "error_relativo(abs4, real4)"
   ]
  },
  {
   "cell_type": "markdown",
   "id": "6d6d94af-da27-4f3f-90a2-343f408aa9c8",
   "metadata": {},
   "source": [
    "# Ejercicio 5"
   ]
  },
  {
   "cell_type": "markdown",
   "id": "77a8f854-adf2-49c8-a90c-0af45557471f",
   "metadata": {},
   "source": [
    "**Los primeros tres términos diferentes a cero de la serie de Maclaurin para la función arcotangente son:\n",
    "$x-(\\frac{1}{3}) x^{3} + (\\frac{1}{5}) x^{5}$. Calcule los errores absoluto y relativo en las siguientes aproximaciones de $\\pi$ mediante el polinomio en lugar del arcotangente:**"
   ]
  },
  {
   "cell_type": "markdown",
   "id": "c565bc9b-cf5c-4aaa-8be8-32c43ecb5a44",
   "metadata": {},
   "source": [
    "**a) $4[arctan(\\frac{1}{2})+arctan(\\frac{1}{3})]$**"
   ]
  },
  {
   "cell_type": "code",
   "execution_count": 101,
   "id": "320e0535-9eea-4c3a-953c-e9d42723fdd3",
   "metadata": {},
   "outputs": [
    {
     "name": "stdout",
     "output_type": "stream",
     "text": [
      "Valor de pi aproximado: 3.088991769547325\n"
     ]
    }
   ],
   "source": [
    "a = 4 * (serie_maclaurin_reducida(1 / 2) + serie_maclaurin_reducida(1 / 3))\n",
    "print(f'Valor de pi aproximado: {a}')"
   ]
  },
  {
   "cell_type": "code",
   "execution_count": 102,
   "id": "0362e36d-b360-4c3a-b4da-020c3fb1a9a6",
   "metadata": {},
   "outputs": [
    {
     "name": "stdout",
     "output_type": "stream",
     "text": [
      "e abs = |3.141592653589793 - 3.088991769547325|\n",
      "e abs = 0.0526008840424680990\n",
      "\n"
     ]
    }
   ],
   "source": [
    "error1 = error_absoluto(math.pi, a)"
   ]
  },
  {
   "cell_type": "code",
   "execution_count": 103,
   "id": "c10329c6-137d-4f87-9679-a225e54fb38b",
   "metadata": {},
   "outputs": [
    {
     "name": "stdout",
     "output_type": "stream",
     "text": [
      "e rel = 0.0526008840424681 / |3.141592653589793|\n",
      "e rel = 0.0167433814127247935\n",
      "e rel = 1.6743381412724794 %\n"
     ]
    }
   ],
   "source": [
    "error_relativo(error1, math.pi)"
   ]
  },
  {
   "cell_type": "markdown",
   "id": "b0ed43b9-227f-45d1-afd0-2d3fa642d29e",
   "metadata": {},
   "source": [
    "**b) $16 acrtan(\\frac{1}{5}) - 4 arctan(\\frac{1}{239})$**"
   ]
  },
  {
   "cell_type": "code",
   "execution_count": 105,
   "id": "483ba189-40fd-47ca-8fb1-a4c5cd4dbda6",
   "metadata": {},
   "outputs": [
    {
     "name": "stdout",
     "output_type": "stream",
     "text": [
      "Valor de pi aproximado: 3.139573029327086\n"
     ]
    }
   ],
   "source": [
    "b = 16 * serie_maclaurin_reducida(1 / 5) - 4 * serie_maclaurin_reducida(1 / 239)\n",
    "print(f'Valor de pi aproximado: {b}')"
   ]
  },
  {
   "cell_type": "code",
   "execution_count": 106,
   "id": "bdf66121-9814-459d-8225-b0f67acfd380",
   "metadata": {},
   "outputs": [
    {
     "name": "stdout",
     "output_type": "stream",
     "text": [
      "e abs = |3.141592653589793 - 3.139573029327086|\n",
      "e abs = 0.0020196242627070760\n",
      "\n"
     ]
    }
   ],
   "source": [
    "error2 = error_absoluto(math.pi, b)"
   ]
  },
  {
   "cell_type": "code",
   "execution_count": 107,
   "id": "290daa3f-86bd-40f5-84c3-feaaa1ea1647",
   "metadata": {},
   "outputs": [
    {
     "name": "stdout",
     "output_type": "stream",
     "text": [
      "e rel = 0.002019624262707076 / |3.141592653589793|\n",
      "e rel = 0.0006428663691963115\n",
      "e rel = 0.06428663691963116 %\n"
     ]
    }
   ],
   "source": [
    "error_relativo(error2, math.pi)"
   ]
  },
  {
   "cell_type": "markdown",
   "id": "1e0a2b4e-56f0-4a8f-ae33-b5ba2d0ccf68",
   "metadata": {},
   "source": [
    "# Ejercicio 6"
   ]
  },
  {
   "cell_type": "markdown",
   "id": "e605361c-3f71-4910-b4f9-bb61c8bafd02",
   "metadata": {},
   "source": [
    "**El número $e$ se puede definir por medio de $\\displaystyle\\sum_{n=0}^\\infty (\\frac{1}{n!})$  , donde $𝑛! = n(𝑛 − 1) ⋅⋅⋅ 2$ para $𝑛 ≠ 0$ y\n",
    "$0! = 1$. Calcule los errores absoluto y relativo en la siguiente aproximación de $e$**"
   ]
  },
  {
   "cell_type": "markdown",
   "id": "25809399-9817-4694-946d-57248f201c6a",
   "metadata": {},
   "source": [
    "**a) $\\displaystyle\\sum_{n=0}^{5} (\\frac{1}{n!})$**"
   ]
  },
  {
   "cell_type": "code",
   "execution_count": 111,
   "id": "4b2a7e0e-5aba-4f6b-b462-d29544c29648",
   "metadata": {},
   "outputs": [
    {
     "name": "stdout",
     "output_type": "stream",
     "text": [
      "Valor de e aproximado: 2.7166666666666663\n"
     ]
    }
   ],
   "source": [
    "e1 = serie_e(5)\n",
    "print(f'Valor de e aproximado: {e1}')"
   ]
  },
  {
   "cell_type": "code",
   "execution_count": 112,
   "id": "0d62dc24-991b-45dc-a0c4-3ed2d4783a86",
   "metadata": {},
   "outputs": [
    {
     "name": "stdout",
     "output_type": "stream",
     "text": [
      "e abs = |2.718281828459045 - 2.7166666666666663|\n",
      "e abs = 0.0016151617923787498\n",
      "\n"
     ]
    }
   ],
   "source": [
    "ea1 = error_absoluto(math.e, e1)"
   ]
  },
  {
   "cell_type": "code",
   "execution_count": 113,
   "id": "24252b0f-4b58-4ade-8767-f4e2f1dbcc98",
   "metadata": {},
   "outputs": [
    {
     "name": "stdout",
     "output_type": "stream",
     "text": [
      "e rel = 0.0016151617923787498 / |2.718281828459045|\n",
      "e rel = 0.0005941848175817597\n",
      "e rel = 0.05941848175817597 %\n"
     ]
    }
   ],
   "source": [
    "error_relativo(ea1, math.e)"
   ]
  },
  {
   "cell_type": "markdown",
   "id": "dbc20619-fbca-4bf1-b54a-1478e87260ac",
   "metadata": {},
   "source": [
    "**b) $\\displaystyle\\sum_{n=0}^{10} (\\frac{1}{n!})$**"
   ]
  },
  {
   "cell_type": "code",
   "execution_count": 115,
   "id": "a071e562-2ff1-43eb-b6bf-99b109c40282",
   "metadata": {},
   "outputs": [
    {
     "name": "stdout",
     "output_type": "stream",
     "text": [
      "Valor de e aproximado: 2.7182818011463845\n"
     ]
    }
   ],
   "source": [
    "e2 = serie_e(10)\n",
    "print(f'Valor de e aproximado: {e2}')"
   ]
  },
  {
   "cell_type": "code",
   "execution_count": 116,
   "id": "c9982f6e-7c40-4977-b13d-7efc9e6a378d",
   "metadata": {},
   "outputs": [
    {
     "name": "stdout",
     "output_type": "stream",
     "text": [
      "e abs = |2.718281828459045 - 2.7182818011463845|\n",
      "e abs = 0.0000000273126605776\n",
      "\n"
     ]
    }
   ],
   "source": [
    "ea2 = error_absoluto(math.e, e2)"
   ]
  },
  {
   "cell_type": "code",
   "execution_count": 117,
   "id": "dbd53d0d-c5a5-4c87-a412-52fb380235a5",
   "metadata": {},
   "outputs": [
    {
     "name": "stdout",
     "output_type": "stream",
     "text": [
      "e rel = 2.7312660577649694e-08 / |2.718281828459045|\n",
      "e rel = 0.0000000100477663102\n",
      "e rel = 1.0047766310211052e-06 %\n"
     ]
    }
   ],
   "source": [
    "error_relativo(ea2, math.e)"
   ]
  },
  {
   "cell_type": "markdown",
   "id": "8d90803e-c0ed-46d3-a897-bc2336d4d8b2",
   "metadata": {},
   "source": [
    "# Ejercicio 7"
   ]
  },
  {
   "cell_type": "markdown",
   "id": "97828485-1784-4015-8190-cc516483d588",
   "metadata": {},
   "source": [
    "**Suponga que dos puntos $(x_0$,$y_0)$ y $(x_1$,$y_1)$ se encuentran en línea racta con $y_1 \\neq y_0$. Existen dos fórmulas para encontrar la intersección x de la línea:**"
   ]
  },
  {
   "cell_type": "markdown",
   "id": "f3a7c6cd-4e4d-4220-b55b-221fa62a30c9",
   "metadata": {},
   "source": [
    "$x = \\frac{x_0 y_1 - x_1 y_0}{y_1 - y_0} \\quad \\text{y} \\quad x = x_0 - \\frac{(x_1 - x_0) y_0}{y_1 - y_0}$"
   ]
  },
  {
   "cell_type": "markdown",
   "id": "568f772e-9e39-4b88-9283-d4646973a470",
   "metadata": {},
   "source": [
    "**Use los datos $(x_0,y_0)$=(1.31,3.24) y $(x_1,y_1)$ = (1.93,5.76) y la aritmética de redondeo de tres dígitos para calcular la intersección con x de ambas manera ¿Cuál método es mejor y por qué?**"
   ]
  },
  {
   "cell_type": "code",
   "execution_count": 122,
   "id": "3811b7a3-582b-4998-bd33-c07954169883",
   "metadata": {},
   "outputs": [
    {
     "name": "stdout",
     "output_type": "stream",
     "text": [
      "0.516\n"
     ]
    }
   ],
   "source": [
    "aprox1 = interseccion_1((1.31,3.24), (1.93,5.76))\n",
    "print(aprox1)"
   ]
  },
  {
   "cell_type": "code",
   "execution_count": 123,
   "id": "78faeb97-78a2-4f58-8938-d5a04c5cd28b",
   "metadata": {},
   "outputs": [
    {
     "name": "stdout",
     "output_type": "stream",
     "text": [
      "0.512\n"
     ]
    }
   ],
   "source": [
    "aprox2 = interseccion_2((1.31,3.24), (1.93,5.76))\n",
    "print(aprox2)"
   ]
  },
  {
   "cell_type": "markdown",
   "id": "7c3901c9-597c-4e89-842c-2cb300967f39",
   "metadata": {},
   "source": [
    "> No se puede determinar cual ecuación es más precisa porque se aplica un redondeo a cada operación, quitandoles su propia precisión a cada una."
   ]
  },
  {
   "cell_type": "markdown",
   "id": "484b2e51-9691-48ab-82f0-7b67fe190bf6",
   "metadata": {},
   "source": [
    "# Códigos"
   ]
  },
  {
   "cell_type": "markdown",
   "id": "449fccad-eb00-4c7b-b2c1-70f1952cfd5f",
   "metadata": {},
   "source": [
    "## Error absoluto y error relativo"
   ]
  },
  {
   "cell_type": "markdown",
   "id": "d6869f25-755d-459b-a32d-b09117a072f6",
   "metadata": {},
   "source": [
    "Para la solución del ejercicio 1 y 2 se considerará el siguiente código:"
   ]
  },
  {
   "cell_type": "code",
   "execution_count": 128,
   "id": "e966c38b-0748-4a18-8e16-5ac21845106b",
   "metadata": {},
   "outputs": [],
   "source": [
    "import math"
   ]
  },
  {
   "cell_type": "code",
   "execution_count": 129,
   "id": "11c9fa77-605a-402a-9e58-19ad0a8efb23",
   "metadata": {},
   "outputs": [],
   "source": [
    "def error_absoluto(valor_real: float, valor_aproximado: float) -> float:\n",
    "    print(f'e abs = |{valor_real} - {valor_aproximado}|')\n",
    "    e_abs = abs(valor_real - valor_aproximado)\n",
    "    print(f'e abs = {e_abs:.19f}\\n')\n",
    "    return e_abs\n",
    "\n",
    "def error_relativo(error_absoluto: float, valor_real: float) -> None:\n",
    "    print(f'e rel = {error_absoluto} / |{valor_real}|')\n",
    "    e_rel = error_absoluto / abs(valor_real)\n",
    "    print(f'e rel = {e_rel:.19f}')\n",
    "    print(f'e rel = {e_rel*100} %')"
   ]
  },
  {
   "cell_type": "markdown",
   "id": "6283149a-6e4a-4438-ab9c-7a601703fef4",
   "metadata": {},
   "source": [
    "## Error relativo máximo"
   ]
  },
  {
   "cell_type": "markdown",
   "id": "0f6cd401-a042-456e-ae24-d12c70b77ede",
   "metadata": {},
   "source": [
    "En este caso, el error relativo máximo queda determinado de la siguiente manera:"
   ]
  },
  {
   "cell_type": "markdown",
   "id": "eb46d8f6-f6c9-4110-bc35-80c0bd272d17",
   "metadata": {},
   "source": [
    "$|\\frac{p^* - p}{p}| \\leq 10^{-4}$"
   ]
  },
  {
   "cell_type": "markdown",
   "id": "dfbbf4ae-f4ce-4dd2-9637-43ce4f7cc3fe",
   "metadata": {},
   "source": [
    "De donde se obtiene que:"
   ]
  },
  {
   "cell_type": "markdown",
   "id": "0646cb66-11c2-468a-9e8d-393a729aa1ac",
   "metadata": {},
   "source": [
    "$p - 10^{-4} \\cdot p \\leq p^* \\leq p + 10^{-4} \\cdot p$"
   ]
  },
  {
   "cell_type": "markdown",
   "id": "e55f890b-85ff-4869-98d0-81e8ab7d2acc",
   "metadata": {},
   "source": [
    "Y queda programado como:"
   ]
  },
  {
   "cell_type": "code",
   "execution_count": 136,
   "id": "ca610bd4-d302-48d5-9cb6-3543aad17d7f",
   "metadata": {},
   "outputs": [],
   "source": [
    "def error_relativo_max(valor_real: float, error_maximo: float) -> None:\n",
    "    min, max = valor_real * (1 - (10 ** -4)), valor_real * (1 + (10 ** -4))\n",
    "    print(f'{min} ≤ p* ≤ {max}')"
   ]
  },
  {
   "cell_type": "markdown",
   "id": "166b2eb4-95d7-4ff5-823f-0a83cdb811e9",
   "metadata": {},
   "source": [
    "## Aritmética de redondeo de 3 dígitos"
   ]
  },
  {
   "cell_type": "markdown",
   "id": "1d8d6763-ff91-449f-ac9d-042e6a3a1fb1",
   "metadata": {},
   "source": [
    "Para realizar el redondeo de 3 digitos se implementó el siguiente código:"
   ]
  },
  {
   "cell_type": "code",
   "execution_count": 139,
   "id": "4e465bc9-9238-4064-b340-806478878d42",
   "metadata": {},
   "outputs": [],
   "source": [
    "def red(numero: float) -> float:\n",
    "    if - 1 < numero < 1:\n",
    "        return round(numero, 3)\n",
    "    else:\n",
    "        return round(numero, 2)"
   ]
  },
  {
   "cell_type": "markdown",
   "id": "98d9b13e-8c0e-4b7e-aaf9-bf94e0a54756",
   "metadata": {},
   "source": [
    "## Aproximación de $\\pi$ con serie de Maclaurin"
   ]
  },
  {
   "cell_type": "markdown",
   "id": "90e3571c-b86d-4574-bf90-4caf7a64ce06",
   "metadata": {},
   "source": [
    "Se define la siguiente función para calcular la aproximación de $\\pi$ a partir de los 3 primeros términos distintos de cero de la serie de Maclaurin"
   ]
  },
  {
   "cell_type": "code",
   "execution_count": 142,
   "id": "d1ae1edd-7e82-4d6e-9a74-d024d0643bae",
   "metadata": {},
   "outputs": [],
   "source": [
    "def serie_maclaurin_reducida(x: float) -> float:\n",
    "    return x - ((1 / 3) * (x ** 3)) - ((1 / 5) * (x ** 5))"
   ]
  },
  {
   "cell_type": "markdown",
   "id": "d0342c7f-2585-474c-ac9f-4964526c0549",
   "metadata": {},
   "source": [
    "## Serie de $e^x$ evaluada en $x = 1$ para determinar $e$"
   ]
  },
  {
   "cell_type": "markdown",
   "id": "8f1a4cf1-030a-4abe-b31e-efa7a8eae21c",
   "metadata": {},
   "source": [
    "El código para determinar la aproximación de $e$ se establece por:"
   ]
  },
  {
   "cell_type": "code",
   "execution_count": 145,
   "id": "39707595-bbc8-4892-8add-83e5c3088db8",
   "metadata": {},
   "outputs": [],
   "source": [
    "def factorial(x: int) -> int:\n",
    "    if x == 0 or x == 1:\n",
    "        return 1\n",
    "    else:\n",
    "        return x * factorial(x-1)\n",
    "\n",
    "def serie_e(n: int) -> float:\n",
    "    aprox_e = 0\n",
    "    for i in range(n+1):\n",
    "        aprox_e += (1/factorial(i))\n",
    "    return aprox_e"
   ]
  },
  {
   "cell_type": "markdown",
   "id": "86b472d6-b139-4938-b28b-d50402f573f3",
   "metadata": {},
   "source": [
    "## Intersección x con la línea"
   ]
  },
  {
   "cell_type": "markdown",
   "id": "f6590014-f9c8-4be0-950d-e4e728743f71",
   "metadata": {},
   "source": [
    "Las funciones para determinar las intersecciones con ambos métodos son:"
   ]
  },
  {
   "cell_type": "code",
   "execution_count": 148,
   "id": "e67057b9-122a-4d05-9144-c64aabd1f741",
   "metadata": {},
   "outputs": [],
   "source": [
    "def interseccion_1(punto1: list[float], punto2: list[float]) -> float:\n",
    "    x = red((red(punto1[0]*punto2[1]) - red(punto2[0]*punto1[1])) / \n",
    "            (punto2[1] - punto1[1]))\n",
    "    return x"
   ]
  },
  {
   "cell_type": "code",
   "execution_count": 149,
   "id": "63f1b2c5-d601-46ce-98dd-5ac31b886d3a",
   "metadata": {},
   "outputs": [],
   "source": [
    "def interseccion_2(punto1: list[float], punto2: list[float]) -> float:\n",
    "    x = punto1[0] - red((red((punto2[0] - punto1[0]) * punto1[1]))/\n",
    "                        (punto2[1] - punto1[1]))\n",
    "    return x"
   ]
  },
  {
   "cell_type": "markdown",
   "id": "43ef72ff-ee4f-4aa7-8a72-fec55a3e2da5",
   "metadata": {},
   "source": [
    "**GitHub:** [Métodos Númericos - @mateobtw18](https://github.com/mateobtw18/Metodos_Numericos)"
   ]
  }
 ],
 "metadata": {
  "kernelspec": {
   "display_name": "Python 3 (ipykernel)",
   "language": "python",
   "name": "python3"
  },
  "language_info": {
   "codemirror_mode": {
    "name": "ipython",
    "version": 3
   },
   "file_extension": ".py",
   "mimetype": "text/x-python",
   "name": "python",
   "nbconvert_exporter": "python",
   "pygments_lexer": "ipython3",
   "version": "3.12.4"
  }
 },
 "nbformat": 4,
 "nbformat_minor": 5
}
